{
 "cells": [
  {
   "cell_type": "markdown",
   "metadata": {},
   "source": [
    "To_do:\n",
    "\n",
    "* Generate representations for each of the following\n",
    "    * Bag of words\n",
    "    * TFIDF: term frequency-inverse document frequency\n",
    "    * CBOW\n",
    "    * Word2Vec\n",
    "* Perform PCA and LDA on various representations\n",
    "    * Also apply MCA and compare to PCA\n",
    "* run nearest neighbors on various representations and analyze cross dispensaries\n",
    "    * look at some examples of elements that are close together \n",
    "* generate tsne\n",
    "* Use cosine similarity/distance/etc.\n",
    "\n",
    "Food for thought\n",
    "* Think about the way we choose the number of dimensions (ie ``min_df``), make it so that the whole pipeline can be optimized with this in mind\n",
    "\n",
    "Some questions\n",
    "* Removing least common words from analysis is beneficial but can get rid of percentages, which is an important part of the data (ie thc 15%), could encode in a more efficient way"
   ]
  },
  {
   "cell_type": "markdown",
   "metadata": {},
   "source": [
    "# Preprocessing"
   ]
  },
  {
   "cell_type": "code",
   "execution_count": 1,
   "metadata": {
    "ExecuteTime": {
     "end_time": "2019-10-02T09:39:38.129795Z",
     "start_time": "2019-10-02T09:39:37.055212Z"
    }
   },
   "outputs": [],
   "source": [
    "import pandas as pd\n",
    "import numpy as np\n",
    "from nltk.corpus import stopwords\n",
    "import matplotlib.pyplot as plt\n",
    "from scipy.sparse import save_npz, load_npz\n",
    "import gensim"
   ]
  },
  {
   "cell_type": "code",
   "execution_count": 82,
   "metadata": {
    "ExecuteTime": {
     "end_time": "2019-10-02T12:12:26.001770Z",
     "start_time": "2019-10-02T12:12:21.129824Z"
    }
   },
   "outputs": [],
   "source": [
    "scraped_fn = 'datasets/190919ProductScrape291_subset.csv'\n",
    "weed_text = pd.read_csv(scraped_fn)"
   ]
  },
  {
   "cell_type": "code",
   "execution_count": 83,
   "metadata": {
    "ExecuteTime": {
     "end_time": "2019-10-02T12:12:31.968525Z",
     "start_time": "2019-10-02T12:12:31.957129Z"
    }
   },
   "outputs": [
    {
     "data": {
      "text/html": [
       "<div>\n",
       "<style scoped>\n",
       "    .dataframe tbody tr th:only-of-type {\n",
       "        vertical-align: middle;\n",
       "    }\n",
       "\n",
       "    .dataframe tbody tr th {\n",
       "        vertical-align: top;\n",
       "    }\n",
       "\n",
       "    .dataframe thead th {\n",
       "        text-align: right;\n",
       "    }\n",
       "</style>\n",
       "<table border=\"1\" class=\"dataframe\">\n",
       "  <thead>\n",
       "    <tr style=\"text-align: right;\">\n",
       "      <th></th>\n",
       "      <th>scrape_number</th>\n",
       "      <th>dispensary_name</th>\n",
       "      <th>license_type</th>\n",
       "      <th>address</th>\n",
       "      <th>city</th>\n",
       "      <th>state</th>\n",
       "      <th>product_name</th>\n",
       "      <th>classification</th>\n",
       "      <th>description</th>\n",
       "      <th>price_eighth</th>\n",
       "    </tr>\n",
       "  </thead>\n",
       "  <tbody>\n",
       "    <tr>\n",
       "      <th>0</th>\n",
       "      <td>291</td>\n",
       "      <td>$100.00 Oz</td>\n",
       "      <td>medical</td>\n",
       "      <td>San Marcos,CA 92069</td>\n",
       "      <td>San Marcos</td>\n",
       "      <td>CA</td>\n",
       "      <td>(Outdoor) Lucifer OG $59.99 oz</td>\n",
       "      <td>Indica</td>\n",
       "      <td>Lucifer OG by Karma Genetics is the devilish o...</td>\n",
       "      <td>0.0</td>\n",
       "    </tr>\n",
       "    <tr>\n",
       "      <th>1</th>\n",
       "      <td>291</td>\n",
       "      <td>$100.00 Oz</td>\n",
       "      <td>medical</td>\n",
       "      <td>San Marcos,CA 92069</td>\n",
       "      <td>San Marcos</td>\n",
       "      <td>CA</td>\n",
       "      <td>(P.R.) Cake Batter OG $165oz</td>\n",
       "      <td>Indica</td>\n",
       "      <td>Soooooo frosty ! Pure Fire!! Get in while its ...</td>\n",
       "      <td>35.0</td>\n",
       "    </tr>\n",
       "    <tr>\n",
       "      <th>2</th>\n",
       "      <td>291</td>\n",
       "      <td>$100.00 Oz</td>\n",
       "      <td>medical</td>\n",
       "      <td>San Marcos,CA 92069</td>\n",
       "      <td>San Marcos</td>\n",
       "      <td>CA</td>\n",
       "      <td>(Light Dep)Greasy Grapes $100oz</td>\n",
       "      <td>Indica</td>\n",
       "      <td>This fast-acting strain delivers energizing, d...</td>\n",
       "      <td>0.0</td>\n",
       "    </tr>\n",
       "    <tr>\n",
       "      <th>3</th>\n",
       "      <td>291</td>\n",
       "      <td>$100.00 Oz</td>\n",
       "      <td>medical</td>\n",
       "      <td>San Marcos,CA 92069</td>\n",
       "      <td>San Marcos</td>\n",
       "      <td>CA</td>\n",
       "      <td>(PR)Face Off OG $165.00oz</td>\n",
       "      <td>Indica</td>\n",
       "      <td>NaN</td>\n",
       "      <td>0.0</td>\n",
       "    </tr>\n",
       "    <tr>\n",
       "      <th>4</th>\n",
       "      <td>291</td>\n",
       "      <td>$100.00 Oz</td>\n",
       "      <td>medical</td>\n",
       "      <td>San Marcos,CA 92069</td>\n",
       "      <td>San Marcos</td>\n",
       "      <td>CA</td>\n",
       "      <td>(Top) Cookie Jar $125 oz</td>\n",
       "      <td>Indica</td>\n",
       "      <td>Cookie Jar is a dessert blend ofPlatinum Girl ...</td>\n",
       "      <td>0.0</td>\n",
       "    </tr>\n",
       "  </tbody>\n",
       "</table>\n",
       "</div>"
      ],
      "text/plain": [
       "   scrape_number dispensary_name license_type              address  \\\n",
       "0            291      $100.00 Oz      medical  San Marcos,CA 92069   \n",
       "1            291      $100.00 Oz      medical  San Marcos,CA 92069   \n",
       "2            291      $100.00 Oz      medical  San Marcos,CA 92069   \n",
       "3            291      $100.00 Oz      medical  San Marcos,CA 92069   \n",
       "4            291      $100.00 Oz      medical  San Marcos,CA 92069   \n",
       "\n",
       "         city state                     product_name classification  \\\n",
       "0  San Marcos    CA   (Outdoor) Lucifer OG $59.99 oz         Indica   \n",
       "1  San Marcos    CA     (P.R.) Cake Batter OG $165oz         Indica   \n",
       "2  San Marcos    CA  (Light Dep)Greasy Grapes $100oz         Indica   \n",
       "3  San Marcos    CA        (PR)Face Off OG $165.00oz         Indica   \n",
       "4  San Marcos    CA         (Top) Cookie Jar $125 oz         Indica   \n",
       "\n",
       "                                         description  price_eighth  \n",
       "0  Lucifer OG by Karma Genetics is the devilish o...           0.0  \n",
       "1  Soooooo frosty ! Pure Fire!! Get in while its ...          35.0  \n",
       "2  This fast-acting strain delivers energizing, d...           0.0  \n",
       "3                                                NaN           0.0  \n",
       "4  Cookie Jar is a dessert blend ofPlatinum Girl ...           0.0  "
      ]
     },
     "execution_count": 83,
     "metadata": {},
     "output_type": "execute_result"
    }
   ],
   "source": [
    "weed_text.head()"
   ]
  },
  {
   "cell_type": "code",
   "execution_count": 84,
   "metadata": {
    "ExecuteTime": {
     "end_time": "2019-10-02T12:12:37.661851Z",
     "start_time": "2019-10-02T12:12:37.511384Z"
    }
   },
   "outputs": [
    {
     "name": "stdout",
     "output_type": "stream",
     "text": [
      "number of NA in description 720475/1944293: 0.3706\n"
     ]
    }
   ],
   "source": [
    "num_rows = weed_text.shape[0]\n",
    "num_na = weed_text['description'].isna().sum()\n",
    "num_dispensaries = weed_text['dispensary_name'].nunique()\n",
    "\n",
    "print('number of NA in description {0}/{1}: {2:.4f}'.format(num_na, num_rows, num_na/num_rows))"
   ]
  },
  {
   "cell_type": "code",
   "execution_count": 85,
   "metadata": {
    "ExecuteTime": {
     "end_time": "2019-10-02T12:14:50.083393Z",
     "start_time": "2019-10-02T12:12:43.343334Z"
    },
    "scrolled": true
   },
   "outputs": [
    {
     "data": {
      "text/plain": [
       "0    lucifer og karma genetics devilish offspring a...\n",
       "1                   soooooo frosty pure fire get stock\n",
       "2    fastacting strain delivers energizing dreamy c...\n",
       "4    cookie jar dessert blend ofplatinum girl scout...\n",
       "7    jordan island matched two sweetest tasting flo...\n",
       "Name: description, dtype: object"
      ]
     },
     "execution_count": 85,
     "metadata": {},
     "output_type": "execute_result"
    }
   ],
   "source": [
    "from nltk import word_tokenize\n",
    "from nltk.stem import WordNetLemmatizer\n",
    "# clean data (remove punctuation, dropna, etc.)\n",
    "# manually remove stopwords and lemmatize\n",
    "english_stopwords = set(stopwords.words('english'))\n",
    "wnl = WordNetLemmatizer()\n",
    "def fn(a):\n",
    "    a = [wnl.lemmatize(t) for t in a.split() if t not in english_stopwords]\n",
    "    return ' '.join(a)\n",
    "clean_description = weed_text['description'].dropna()\n",
    "clean_description = clean_description.str.replace('[!\"#$&\\'()*+,:;<=>?@[\\\\]^_`{|}~/-]', '')\n",
    "clean_description = clean_description.str.lower()\n",
    "clean_description = clean_description.str.strip()\n",
    "clean_description = clean_description.apply(fn)\n",
    "clean_description[:5]"
   ]
  },
  {
   "cell_type": "code",
   "execution_count": 6,
   "metadata": {
    "ExecuteTime": {
     "end_time": "2019-10-02T07:19:08.793986Z",
     "start_time": "2019-10-02T07:19:08.615722Z"
    }
   },
   "outputs": [
    {
     "data": {
      "text/html": [
       "<div>\n",
       "<style scoped>\n",
       "    .dataframe tbody tr th:only-of-type {\n",
       "        vertical-align: middle;\n",
       "    }\n",
       "\n",
       "    .dataframe tbody tr th {\n",
       "        vertical-align: top;\n",
       "    }\n",
       "\n",
       "    .dataframe thead th {\n",
       "        text-align: right;\n",
       "    }\n",
       "</style>\n",
       "<table border=\"1\" class=\"dataframe\">\n",
       "  <thead>\n",
       "    <tr style=\"text-align: right;\">\n",
       "      <th></th>\n",
       "      <th>dispensary_name</th>\n",
       "      <th>description</th>\n",
       "      <th>product_name</th>\n",
       "      <th>price_eighth</th>\n",
       "    </tr>\n",
       "  </thead>\n",
       "  <tbody>\n",
       "    <tr>\n",
       "      <th>0</th>\n",
       "      <td>$100.00 Oz</td>\n",
       "      <td>Lucifer OG by Karma Genetics is the devilish o...</td>\n",
       "      <td>(Outdoor) Lucifer OG $59.99 oz</td>\n",
       "      <td>0.0</td>\n",
       "    </tr>\n",
       "    <tr>\n",
       "      <th>1</th>\n",
       "      <td>$100.00 Oz</td>\n",
       "      <td>Soooooo frosty ! Pure Fire!! Get in while its ...</td>\n",
       "      <td>(P.R.) Cake Batter OG $165oz</td>\n",
       "      <td>35.0</td>\n",
       "    </tr>\n",
       "    <tr>\n",
       "      <th>2</th>\n",
       "      <td>$100.00 Oz</td>\n",
       "      <td>This fast-acting strain delivers energizing, d...</td>\n",
       "      <td>(Light Dep)Greasy Grapes $100oz</td>\n",
       "      <td>0.0</td>\n",
       "    </tr>\n",
       "    <tr>\n",
       "      <th>4</th>\n",
       "      <td>$100.00 Oz</td>\n",
       "      <td>Cookie Jar is a dessert blend ofPlatinum Girl ...</td>\n",
       "      <td>(Top) Cookie Jar $125 oz</td>\n",
       "      <td>0.0</td>\n",
       "    </tr>\n",
       "    <tr>\n",
       "      <th>7</th>\n",
       "      <td>$100.00 Oz</td>\n",
       "      <td>Jordan of the Islands matched two of the sweet...</td>\n",
       "      <td>Blue Treat 100oz 100oz 100oz 100oz 100oz</td>\n",
       "      <td>35.0</td>\n",
       "    </tr>\n",
       "  </tbody>\n",
       "</table>\n",
       "</div>"
      ],
      "text/plain": [
       "  dispensary_name                                        description  \\\n",
       "0      $100.00 Oz  Lucifer OG by Karma Genetics is the devilish o...   \n",
       "1      $100.00 Oz  Soooooo frosty ! Pure Fire!! Get in while its ...   \n",
       "2      $100.00 Oz  This fast-acting strain delivers energizing, d...   \n",
       "4      $100.00 Oz  Cookie Jar is a dessert blend ofPlatinum Girl ...   \n",
       "7      $100.00 Oz  Jordan of the Islands matched two of the sweet...   \n",
       "\n",
       "                               product_name  price_eighth  \n",
       "0            (Outdoor) Lucifer OG $59.99 oz           0.0  \n",
       "1              (P.R.) Cake Batter OG $165oz          35.0  \n",
       "2           (Light Dep)Greasy Grapes $100oz           0.0  \n",
       "4                  (Top) Cookie Jar $125 oz           0.0  \n",
       "7  Blue Treat 100oz 100oz 100oz 100oz 100oz          35.0  "
      ]
     },
     "execution_count": 6,
     "metadata": {},
     "output_type": "execute_result"
    }
   ],
   "source": [
    "cleaned_weed_text = weed_text.iloc[clean_description.index][['dispensary_name', 'description', 'product_name', 'price_eighth']]\n",
    "cleaned_weed_text.head()"
   ]
  },
  {
   "cell_type": "markdown",
   "metadata": {},
   "source": [
    "Note that ``min_df = 0.001`` may get rid of important information regarding thc content (ie thc 76.14%)"
   ]
  },
  {
   "cell_type": "code",
   "execution_count": 7,
   "metadata": {
    "ExecuteTime": {
     "end_time": "2019-10-02T07:19:38.587838Z",
     "start_time": "2019-10-02T07:19:08.849643Z"
    }
   },
   "outputs": [
    {
     "data": {
      "text/plain": [
       "(1223818, 3228)"
      ]
     },
     "execution_count": 7,
     "metadata": {},
     "output_type": "execute_result"
    }
   ],
   "source": [
    "from sklearn.feature_extraction.text import CountVectorizer\n",
    "desc_vectorizer = CountVectorizer(min_df = 0.001)\n",
    "vec_desc = desc_vectorizer.fit_transform(clean_description)\n",
    "vec_desc.shape\n",
    "# save_npz('datasets/bag_of_words.npz', matrix = vec_desc)"
   ]
  },
  {
   "cell_type": "code",
   "execution_count": 9,
   "metadata": {
    "ExecuteTime": {
     "end_time": "2019-10-02T07:19:59.717783Z",
     "start_time": "2019-10-02T07:19:51.152039Z"
    }
   },
   "outputs": [],
   "source": [
    "save_npz('datasets/bag_of_words.npz', matrix = vec_desc)"
   ]
  },
  {
   "cell_type": "code",
   "execution_count": 8,
   "metadata": {
    "ExecuteTime": {
     "end_time": "2019-10-02T07:19:50.221100Z",
     "start_time": "2019-10-02T07:19:39.584553Z"
    },
    "scrolled": true
   },
   "outputs": [
    {
     "data": {
      "text/plain": [
       "0.7814382725477989"
      ]
     },
     "execution_count": 8,
     "metadata": {},
     "output_type": "execute_result"
    }
   ],
   "source": [
    "def count_perc(data, vocabulary):\n",
    "    def calculate_found_and_total(sentence):\n",
    "        split_sentence = sentence.split()\n",
    "        found_words = [word for word in sentence.split() if word in vocabulary]\n",
    "        return len(found_words), len(split_sentence)\n",
    "    adj_data = data.apply(calculate_found_and_total)\n",
    "    return np.sum(adj_data.apply(lambda x: x[0])) / np.sum(adj_data.apply(lambda x: x[1])) \n",
    "count_perc(clean_description, desc_vectorizer.vocabulary_)"
   ]
  },
  {
   "cell_type": "code",
   "execution_count": null,
   "metadata": {},
   "outputs": [],
   "source": [
    "cleaned_weed_text.to_csv('datasets/cleaned_desc.csv')"
   ]
  },
  {
   "cell_type": "code",
   "execution_count": 10,
   "metadata": {
    "ExecuteTime": {
     "end_time": "2019-10-02T07:20:01.970462Z",
     "start_time": "2019-10-02T07:20:00.766393Z"
    }
   },
   "outputs": [],
   "source": [
    "from sklearn.feature_extraction.text import TfidfTransformer\n",
    "tf_transformer = TfidfTransformer(use_idf=False)\n",
    "tfid_desc = tf_transformer.fit_transform(vec_desc)"
   ]
  },
  {
   "cell_type": "code",
   "execution_count": null,
   "metadata": {},
   "outputs": [],
   "source": [
    "save_npz('datasets/term_freq.npz', matrix = tfid_desc)"
   ]
  },
  {
   "cell_type": "code",
   "execution_count": 19,
   "metadata": {
    "ExecuteTime": {
     "end_time": "2019-10-02T07:40:35.514211Z",
     "start_time": "2019-10-02T07:40:35.486819Z"
    },
    "scrolled": true
   },
   "outputs": [
    {
     "data": {
      "text/plain": [
       "array([['lucifer og karma genetics devilish offspring ahells ogmother backcrossedsfv og kushmale. emitting classic kush aroma pine forest floor strain tends grow larger parent offer ample resinous harvest 9 11 week flowering time. lucifer ogs midlevel euphoria help dissolve stress compounding physical relaxation help mitigate minor ache pains.',\n",
       "        'soooooo frosty pure fire get stock',\n",
       "        'fastacting strain delivers energizing dreamy cerebral effect pushed sour diesel legendary status. stress pain depression fade away longlasting relief make sour diesel top choice among medical patients.',\n",
       "        ..., 'thc 14% strain aj sour 70% jack herer 30%',\n",
       "        '6 artisanal cone easy convenient enjoyment. thc 20.11 % total cannabinoids 23.85 % classic j sativa blend tangy happy lime slurps xj13',\n",
       "        'thc 22.62%']], dtype=object)"
      ]
     },
     "execution_count": 19,
     "metadata": {},
     "output_type": "execute_result"
    }
   ],
   "source": [
    "np.array([clean_description.values])"
   ]
  },
  {
   "cell_type": "code",
   "execution_count": null,
   "metadata": {},
   "outputs": [],
   "source": [
    "# no min_count\n",
    "# 129 ms for 1,000\n",
    "# 710 ms for 10,000\n",
    "# 9.42 s for 100,000 (goes to 7s with min_count = 10)"
   ]
  },
  {
   "cell_type": "code",
   "execution_count": 121,
   "metadata": {
    "ExecuteTime": {
     "end_time": "2019-10-02T12:23:41.249470Z",
     "start_time": "2019-10-02T12:23:34.069092Z"
    }
   },
   "outputs": [
    {
     "data": {
      "text/plain": [
       "W2VTransformer(alpha=0.025, batch_words=10000, cbow_mean=1,\n",
       "        hashfxn=<built-in function hash>, hs=0, iter=5,\n",
       "        max_vocab_size=None, min_alpha=0.0001, min_count=10, negative=5,\n",
       "        null_word=0, sample=0.001, seed=1, sg=0, size=10, sorted_vocab=1,\n",
       "        trim_rule=None, window=5, workers=3)"
      ]
     },
     "execution_count": 121,
     "metadata": {},
     "output_type": "execute_result"
    }
   ],
   "source": [
    "from gensim.sklearn_api import W2VTransformer\n",
    "model = W2VTransformer(size=10, min_count=10, seed=1)\n",
    "model.fit(sentences)"
   ]
  },
  {
   "cell_type": "code",
   "execution_count": 125,
   "metadata": {
    "ExecuteTime": {
     "end_time": "2019-10-02T21:24:07.749284Z",
     "start_time": "2019-10-02T21:24:07.734351Z"
    },
    "scrolled": true
   },
   "outputs": [],
   "source": [
    "# sentences = []\n",
    "# for elem in clean_description.values[:100000]:\n",
    "#     sentences.append(elem.split(\" \"))\n",
    "# sentences"
   ]
  },
  {
   "cell_type": "code",
   "execution_count": 122,
   "metadata": {
    "ExecuteTime": {
     "end_time": "2019-10-02T12:23:56.009606Z",
     "start_time": "2019-10-02T12:23:56.004636Z"
    }
   },
   "outputs": [
    {
     "data": {
      "text/plain": [
       "array([[-0.10484957, -0.10481551, -0.3152604 ,  0.14181465,  0.81565505,\n",
       "         0.31350106, -0.17609553, -0.17268649, -0.0359086 , -0.11779242]],\n",
       "      dtype=float32)"
      ]
     },
     "execution_count": 122,
     "metadata": {},
     "output_type": "execute_result"
    }
   ],
   "source": [
    "model.transform(['karma'])"
   ]
  },
  {
   "cell_type": "code",
   "execution_count": 2,
   "metadata": {
    "ExecuteTime": {
     "end_time": "2019-10-02T09:39:45.090820Z",
     "start_time": "2019-10-02T09:39:43.560865Z"
    }
   },
   "outputs": [],
   "source": [
    "from scipy.sparse import load_npz\n",
    "tfid_desc = load_npz('datasets/term_freq.npz')\n",
    "vec_desc = load_npz('datasets/bag_of_words.npz')"
   ]
  },
  {
   "cell_type": "markdown",
   "metadata": {},
   "source": [
    "# Dimensionality/Features\n",
    "## PCA\n",
    "Currently does not work b/c of sparse matrix"
   ]
  },
  {
   "cell_type": "code",
   "execution_count": 42,
   "metadata": {},
   "outputs": [
    {
     "name": "stderr",
     "output_type": "stream",
     "text": [
      "/home/jiwonkim/anaconda3/envs/weed_nlp/lib/python3.5/site-packages/sklearn/utils/validation.py:590: DataConversionWarning: Data with input dtype int64 was converted to float64 by StandardScaler.\n",
      "  warnings.warn(msg, DataConversionWarning)\n"
     ]
    }
   ],
   "source": [
    "from sklearn.preprocessing import StandardScaler\n",
    "vec_desc_std = StandardScaler(with_mean=False).fit_transform(vec_desc)\n",
    "tfid_desc_std = StandardScaler(with_mean=False).fit_transform(tfid_desc)"
   ]
  },
  {
   "cell_type": "code",
   "execution_count": 43,
   "metadata": {},
   "outputs": [
    {
     "data": {
      "text/plain": [
       "<1223818x3228 sparse matrix of type '<class 'numpy.float64'>'\n",
       "\twith 27768733 stored elements in Compressed Sparse Row format>"
      ]
     },
     "execution_count": 43,
     "metadata": {},
     "output_type": "execute_result"
    }
   ],
   "source": [
    "vec_desc_std"
   ]
  },
  {
   "cell_type": "code",
   "execution_count": 44,
   "metadata": {
    "collapsed": true
   },
   "outputs": [
    {
     "ename": "TypeError",
     "evalue": "PCA does not support sparse input. See TruncatedSVD for a possible alternative.",
     "output_type": "error",
     "traceback": [
      "\u001b[0;31m---------------------------------------------------------------------------\u001b[0m",
      "\u001b[0;31mTypeError\u001b[0m                                 Traceback (most recent call last)",
      "\u001b[0;32m<ipython-input-44-301f3f02ad98>\u001b[0m in \u001b[0;36m<module>\u001b[0;34m\u001b[0m\n\u001b[1;32m      1\u001b[0m \u001b[0;32mfrom\u001b[0m \u001b[0msklearn\u001b[0m\u001b[0;34m.\u001b[0m\u001b[0mdecomposition\u001b[0m \u001b[0;32mimport\u001b[0m \u001b[0mPCA\u001b[0m\u001b[0;34m\u001b[0m\u001b[0m\n\u001b[1;32m      2\u001b[0m \u001b[0mpca_bow\u001b[0m \u001b[0;34m=\u001b[0m \u001b[0mPCA\u001b[0m\u001b[0;34m(\u001b[0m\u001b[0mn_components\u001b[0m\u001b[0;34m=\u001b[0m\u001b[0;36m3228\u001b[0m\u001b[0;34m)\u001b[0m\u001b[0;34m\u001b[0m\u001b[0m\n\u001b[0;32m----> 3\u001b[0;31m \u001b[0mpca_bow\u001b[0m\u001b[0;34m.\u001b[0m\u001b[0mfit\u001b[0m\u001b[0;34m(\u001b[0m\u001b[0mvec_desc_std\u001b[0m\u001b[0;34m)\u001b[0m\u001b[0;34m\u001b[0m\u001b[0m\n\u001b[0m",
      "\u001b[0;32m~/anaconda3/envs/weed_nlp/lib/python3.5/site-packages/sklearn/decomposition/pca.py\u001b[0m in \u001b[0;36mfit\u001b[0;34m(self, X, y)\u001b[0m\n\u001b[1;32m    338\u001b[0m             \u001b[0mReturns\u001b[0m \u001b[0mthe\u001b[0m \u001b[0minstance\u001b[0m \u001b[0mitself\u001b[0m\u001b[0;34m.\u001b[0m\u001b[0;34m\u001b[0m\u001b[0m\n\u001b[1;32m    339\u001b[0m         \"\"\"\n\u001b[0;32m--> 340\u001b[0;31m         \u001b[0mself\u001b[0m\u001b[0;34m.\u001b[0m\u001b[0m_fit\u001b[0m\u001b[0;34m(\u001b[0m\u001b[0mX\u001b[0m\u001b[0;34m)\u001b[0m\u001b[0;34m\u001b[0m\u001b[0m\n\u001b[0m\u001b[1;32m    341\u001b[0m         \u001b[0;32mreturn\u001b[0m \u001b[0mself\u001b[0m\u001b[0;34m\u001b[0m\u001b[0m\n\u001b[1;32m    342\u001b[0m \u001b[0;34m\u001b[0m\u001b[0m\n",
      "\u001b[0;32m~/anaconda3/envs/weed_nlp/lib/python3.5/site-packages/sklearn/decomposition/pca.py\u001b[0m in \u001b[0;36m_fit\u001b[0;34m(self, X)\u001b[0m\n\u001b[1;32m    375\u001b[0m         \u001b[0;31m# This is more informative than the generic one raised by check_array.\u001b[0m\u001b[0;34m\u001b[0m\u001b[0;34m\u001b[0m\u001b[0m\n\u001b[1;32m    376\u001b[0m         \u001b[0;32mif\u001b[0m \u001b[0missparse\u001b[0m\u001b[0;34m(\u001b[0m\u001b[0mX\u001b[0m\u001b[0;34m)\u001b[0m\u001b[0;34m:\u001b[0m\u001b[0;34m\u001b[0m\u001b[0m\n\u001b[0;32m--> 377\u001b[0;31m             raise TypeError('PCA does not support sparse input. See '\n\u001b[0m\u001b[1;32m    378\u001b[0m                             'TruncatedSVD for a possible alternative.')\n\u001b[1;32m    379\u001b[0m \u001b[0;34m\u001b[0m\u001b[0m\n",
      "\u001b[0;31mTypeError\u001b[0m: PCA does not support sparse input. See TruncatedSVD for a possible alternative."
     ]
    }
   ],
   "source": [
    "from sklearn.decomposition import PCA\n",
    "pca_bow = PCA(n_components=3228)\n",
    "pca_bow.fit(vec_desc_std)"
   ]
  },
  {
   "cell_type": "code",
   "execution_count": null,
   "metadata": {},
   "outputs": [],
   "source": [
    "pca_tfid = PCA(n_components=3228)\n",
    "pca_tfid.fit(tfid_desc_std)"
   ]
  },
  {
   "cell_type": "code",
   "execution_count": 29,
   "metadata": {
    "ExecuteTime": {
     "end_time": "2019-10-01T03:14:21.937330Z",
     "start_time": "2019-10-01T03:14:21.610529Z"
    },
    "collapsed": true
   },
   "outputs": [
    {
     "ename": "NameError",
     "evalue": "name 'pca_bow' is not defined",
     "output_type": "error",
     "traceback": [
      "\u001b[0;31m---------------------------------------------------------------------------\u001b[0m",
      "\u001b[0;31mNameError\u001b[0m                                 Traceback (most recent call last)",
      "\u001b[0;32m<ipython-input-29-4fb0e339b119>\u001b[0m in \u001b[0;36m<module>\u001b[0;34m\u001b[0m\n\u001b[1;32m      1\u001b[0m \u001b[0mplt\u001b[0m\u001b[0;34m.\u001b[0m\u001b[0msubplot\u001b[0m\u001b[0;34m(\u001b[0m\u001b[0;36m121\u001b[0m\u001b[0;34m)\u001b[0m\u001b[0;34m\u001b[0m\u001b[0m\n\u001b[1;32m      2\u001b[0m \u001b[0mplt\u001b[0m\u001b[0;34m.\u001b[0m\u001b[0mtitle\u001b[0m\u001b[0;34m(\u001b[0m\u001b[0;34m\"PCA Explained Variance for BOW\"\u001b[0m\u001b[0;34m)\u001b[0m\u001b[0;34m\u001b[0m\u001b[0m\n\u001b[0;32m----> 3\u001b[0;31m \u001b[0mplt\u001b[0m\u001b[0;34m.\u001b[0m\u001b[0mplot\u001b[0m\u001b[0;34m(\u001b[0m\u001b[0mnp\u001b[0m\u001b[0;34m.\u001b[0m\u001b[0mcumsum\u001b[0m\u001b[0;34m(\u001b[0m\u001b[0mpca_bow\u001b[0m\u001b[0;34m.\u001b[0m\u001b[0mexplained_variance_ratio_\u001b[0m\u001b[0;34m)\u001b[0m\u001b[0;34m)\u001b[0m\u001b[0;34m\u001b[0m\u001b[0m\n\u001b[0m\u001b[1;32m      4\u001b[0m \u001b[0mplt\u001b[0m\u001b[0;34m.\u001b[0m\u001b[0msubplot\u001b[0m\u001b[0;34m(\u001b[0m\u001b[0;36m122\u001b[0m\u001b[0;34m)\u001b[0m\u001b[0;34m\u001b[0m\u001b[0m\n\u001b[1;32m      5\u001b[0m \u001b[0mplt\u001b[0m\u001b[0;34m.\u001b[0m\u001b[0mtitle\u001b[0m\u001b[0;34m(\u001b[0m\u001b[0;34m\"PCA Explained Variance for TFID\"\u001b[0m\u001b[0;34m)\u001b[0m\u001b[0;34m\u001b[0m\u001b[0m\n",
      "\u001b[0;31mNameError\u001b[0m: name 'pca_bow' is not defined"
     ]
    },
    {
     "data": {
      "image/png": "[encoded data removed]",
      "text/plain": [
       "<Figure size 432x288 with 1 Axes>"
      ]
     },
     "metadata": {
      "needs_background": "light"
     },
     "output_type": "display_data"
    }
   ],
   "source": [
    "plt.subplot(121)\n",
    "plt.title(\"PCA Explained Variance for BOW\")\n",
    "plt.plot(np.cumsum(pca_bow.explained_variance_ratio_))\n",
    "plt.subplot(122)\n",
    "plt.title(\"PCA Explained Variance for TFID\")\n",
    "plt.plot(np.cumsum(pca_bow.explained_variance_ratio_))\n",
    "plt.show()"
   ]
  },
  {
   "cell_type": "markdown",
   "metadata": {},
   "source": [
    "## Truncated SVD\n",
    "| number of components |  50  | 100 | 150 |\n",
    "|----------------------|------|-----|-----|\n",
    "|   explained variance | 0.35 | 0.50| tbd |\n",
    "\n",
    "\n",
    "Note 150 components takes a long time. Benefit over PCA: PCA could potentially work but BOW and TFIDF create sparse matrices, which makes PCA unusable (b/c of large matrices). Plus, you do not need to standard scale using TruncatedSVD"
   ]
  },
  {
   "cell_type": "code",
   "execution_count": 3,
   "metadata": {
    "ExecuteTime": {
     "end_time": "2019-10-02T08:18:10.060413Z",
     "start_time": "2019-10-02T08:16:49.198310Z"
    },
    "scrolled": true
   },
   "outputs": [],
   "source": [
    "from sklearn.decomposition import TruncatedSVD\n",
    "tsvd_bow = TruncatedSVD(n_components=100)\n",
    "tsvd_bow_npy = tsvd_bow.fit_transform(vec_desc)"
   ]
  },
  {
   "cell_type": "code",
   "execution_count": null,
   "metadata": {
    "ExecuteTime": {
     "start_time": "2019-10-02T08:16:51.583Z"
    }
   },
   "outputs": [],
   "source": [
    "tsvd_tfid = TruncatedSVD(n_components=100)\n",
    "tsvd_tfid_npy = tsvd_tfid.fit_transform(tfid_desc)"
   ]
  },
  {
   "cell_type": "code",
   "execution_count": 10,
   "metadata": {},
   "outputs": [
    {
     "data": {
      "image/png": "[encoded data removed]",
      "text/plain": [
       "<Figure size 1080x360 with 2 Axes>"
      ]
     },
     "metadata": {
      "needs_background": "light"
     },
     "output_type": "display_data"
    }
   ],
   "source": [
    "plt.figure(figsize=(15, 5))\n",
    "plt.subplot(121)\n",
    "plt.title(\"TSVD Explained Variance for BOW\")\n",
    "plt.plot(np.cumsum(tsvd_bow.explained_variance_ratio_))\n",
    "plt.subplot(122)\n",
    "plt.title(\"TSVD Explained Variance for TFID\")\n",
    "plt.plot(np.cumsum(tsvd_tfid.explained_variance_ratio_))\n",
    "plt.show()"
   ]
  },
  {
   "cell_type": "code",
   "execution_count": null,
   "metadata": {},
   "outputs": [],
   "source": [
    "from joblib import dump, load\n",
    "dump(tsvd_bow, 'models/tsvd_bow.joblib')\n",
    "dump(tsvd_tfid, 'models/tsvd_tfid.joblib')\n",
    "\n",
    "np.save('datasets/tsvd_bow.npy', tsvd_bow_npy)\n",
    "np.save('datasets/tsvd_tfid.npy', tsvd_tfid_npy)"
   ]
  },
  {
   "cell_type": "code",
   "execution_count": 5,
   "metadata": {
    "ExecuteTime": {
     "end_time": "2019-10-02T09:40:11.238951Z",
     "start_time": "2019-10-02T09:40:10.155808Z"
    }
   },
   "outputs": [],
   "source": [
    "# reload\n",
    "tsvd_tfid_npy = np.load('datasets/tsvd_tfid.npy')\n",
    "tsvd_bow_npy = np.load('datasets/tsvd_bow.npy')"
   ]
  },
  {
   "cell_type": "markdown",
   "metadata": {},
   "source": [
    "## LDA"
   ]
  },
  {
   "cell_type": "code",
   "execution_count": null,
   "metadata": {},
   "outputs": [],
   "source": [
    "# 1,000 took 1.37 seconds\n",
    "# 10,000 took 14.1 seconds"
   ]
  },
  {
   "cell_type": "code",
   "execution_count": 124,
   "metadata": {
    "ExecuteTime": {
     "end_time": "2019-10-02T12:26:43.321775Z",
     "start_time": "2019-10-02T12:26:29.181810Z"
    },
    "scrolled": true
   },
   "outputs": [],
   "source": [
    "from sklearn.decomposition import LatentDirichletAllocation as LDA\n",
    "from sklearn.model_selection import GridSearchCV\n",
    "search_params = {'n_components': [10, 15, 20, 25, 30]}\n",
    "\n",
    "lda = LDA(n_components = 10)\n",
    "lda_bow = lda.fit_transform(vec_desc[:10000])\n",
    "# model = GridSearchCV(lda, param_grid = search_params)\n",
    "# model.fit(vec_desc)"
   ]
  },
  {
   "cell_type": "code",
   "execution_count": null,
   "metadata": {},
   "outputs": [],
   "source": [
    "lda = LDA(n_components = 10)\n",
    "lda_tfid = lda.fit_transform(tfid_desc)"
   ]
  },
  {
   "cell_type": "markdown",
   "metadata": {},
   "source": [
    "# Clustering\n",
    "## Kmeans\n",
    "Note that kmeans cannot take in a sparse matrix, so it must be result of TruncatedSVD/LDA/etc, or you must convert to dense matrix. Interpretation of silhouette: compares average distance to other points within same cluster to that of the nearest other cluster (the higher the silhouette, the better the clustering)\n",
    "\n",
    "Notes: 5 clusters with 50 parameters, ran for 1 minute and 14 seconds.\n",
    "\n",
    "silhouette score took too long, so I've abandoned analyzing via silhouette score\n",
    "\n",
    "| clusters | dimensions | time | silhouette time | data preprocessing |\n",
    "|----------|------------|------|-----------------|--------------------|\n",
    "| 5        | 50         | 74sec|     14minutes+  |   TSVD             |\n"
   ]
  },
  {
   "cell_type": "code",
   "execution_count": 57,
   "metadata": {
    "ExecuteTime": {
     "end_time": "2019-10-02T12:01:04.501235Z",
     "start_time": "2019-10-02T11:53:21.323600Z"
    },
    "collapsed": true
   },
   "outputs": [
    {
     "name": "stdout",
     "output_type": "stream",
     "text": [
      "0\n",
      "1\n",
      "2\n",
      "3\n",
      "4\n",
      "5\n"
     ]
    },
    {
     "ename": "IndexError",
     "evalue": "list index out of range",
     "output_type": "error",
     "traceback": [
      "\u001b[0;31m---------------------------------------------------------------------------\u001b[0m",
      "\u001b[0;31mIndexError\u001b[0m                                Traceback (most recent call last)",
      "\u001b[0;32m<ipython-input-57-1b32891fbd35>\u001b[0m in \u001b[0;36m<module>\u001b[0;34m\u001b[0m\n\u001b[1;32m      8\u001b[0m \u001b[0;32mfor\u001b[0m \u001b[0mi\u001b[0m \u001b[0;32min\u001b[0m \u001b[0mrange\u001b[0m\u001b[0;34m(\u001b[0m\u001b[0mnum_clusters\u001b[0m\u001b[0;34m)\u001b[0m\u001b[0;34m:\u001b[0m\u001b[0;34m\u001b[0m\u001b[0m\n\u001b[1;32m      9\u001b[0m     \u001b[0mprint\u001b[0m\u001b[0;34m(\u001b[0m\u001b[0mi\u001b[0m\u001b[0;34m)\u001b[0m\u001b[0;34m\u001b[0m\u001b[0m\n\u001b[0;32m---> 10\u001b[0;31m     \u001b[0mdist_to_clusters\u001b[0m \u001b[0;34m=\u001b[0m \u001b[0mkmeans_bow\u001b[0m\u001b[0;34m[\u001b[0m\u001b[0mi\u001b[0m\u001b[0;34m]\u001b[0m\u001b[0;34m.\u001b[0m\u001b[0mfit_transform\u001b[0m\u001b[0;34m(\u001b[0m\u001b[0mtsvd_bow_npy\u001b[0m\u001b[0;34m[\u001b[0m\u001b[0;34m:\u001b[0m\u001b[0;34m,\u001b[0m\u001b[0;34m:\u001b[0m\u001b[0;34m]\u001b[0m\u001b[0;34m)\u001b[0m\u001b[0;34m\u001b[0m\u001b[0m\n\u001b[0m\u001b[1;32m     11\u001b[0m     \u001b[0mpreds\u001b[0m \u001b[0;34m=\u001b[0m \u001b[0mkmeans_bow\u001b[0m\u001b[0;34m[\u001b[0m\u001b[0mi\u001b[0m\u001b[0;34m]\u001b[0m\u001b[0;34m.\u001b[0m\u001b[0mpredict\u001b[0m\u001b[0;34m(\u001b[0m\u001b[0mtsvd_bow_npy\u001b[0m\u001b[0;34m[\u001b[0m\u001b[0;34m:\u001b[0m\u001b[0;34m,\u001b[0m \u001b[0;34m:\u001b[0m\u001b[0;34m]\u001b[0m\u001b[0;34m)\u001b[0m\u001b[0;34m\u001b[0m\u001b[0m\n\u001b[1;32m     12\u001b[0m     \u001b[0mnp\u001b[0m\u001b[0;34m.\u001b[0m\u001b[0mrandom\u001b[0m\u001b[0;34m.\u001b[0m\u001b[0mseed\u001b[0m\u001b[0;34m(\u001b[0m\u001b[0mi\u001b[0m\u001b[0;34m)\u001b[0m\u001b[0;34m\u001b[0m\u001b[0m\n",
      "\u001b[0;31mIndexError\u001b[0m: list index out of range"
     ]
    }
   ],
   "source": [
    "from sklearn.cluster import KMeans\n",
    "from sklearn.metrics import silhouette_score\n",
    "num_clusters = 7\n",
    "kmeans_bow = [KMeans(n_clusters=x, random_state=0)\n",
    "              for x in range(3, num_clusters + 1)]\n",
    "silhou_bow = [0 for x in range(3, num_clusters + 1)]\n",
    "silhou_ind = [0 for x in range(3, num_clusters + 1)]\n",
    "for i in range(num_clusters):\n",
    "    print(i)\n",
    "    dist_to_clusters = kmeans_bow[i].fit_transform(tsvd_bow_npy[:,:])\n",
    "    preds = kmeans_bow[i].predict(tsvd_bow_npy[:, :])\n",
    "    np.random.seed(i)\n",
    "    choose = np.random.choice(np.arange(tsvd_bow_npy.shape[0]), 10000)\n",
    "    silhou_bow[i] = silhouette_score(tsvd_bow_npy[choose], preds[choose])\n",
    "    silhou_ind[i] = choose"
   ]
  },
  {
   "cell_type": "code",
   "execution_count": 58,
   "metadata": {
    "ExecuteTime": {
     "end_time": "2019-10-02T12:01:17.645492Z",
     "start_time": "2019-10-02T12:01:17.636328Z"
    }
   },
   "outputs": [
    {
     "data": {
      "text/plain": [
       "[0.32165693172674165,\n",
       " 0.33166540320384535,\n",
       " 0.3416754440777323,\n",
       " 0.2691255950196097,\n",
       " 0.23379680186678983]"
      ]
     },
     "execution_count": 58,
     "metadata": {},
     "output_type": "execute_result"
    }
   ],
   "source": [
    "silhou_bow # took 7minutes 43 seconds"
   ]
  },
  {
   "cell_type": "markdown",
   "metadata": {},
   "source": [
    "TSNE\n",
    "500 data points took 3s"
   ]
  },
  {
   "cell_type": "code",
   "execution_count": 15,
   "metadata": {
    "ExecuteTime": {
     "end_time": "2019-10-02T11:29:45.997228Z",
     "start_time": "2019-10-02T11:29:42.883769Z"
    },
    "scrolled": true
   },
   "outputs": [],
   "source": [
    "from MulticoreTSNE import MulticoreTSNE as TSNE\n",
    "bow_embedded = TSNE(n_jobs=4).fit_transform(tsvd_bow_npy[:500, :])"
   ]
  },
  {
   "cell_type": "code",
   "execution_count": 27,
   "metadata": {
    "ExecuteTime": {
     "end_time": "2019-10-02T11:34:06.847928Z",
     "start_time": "2019-10-02T11:34:06.834233Z"
    },
    "scrolled": true
   },
   "outputs": [],
   "source": [
    "dispensaries = cleaned_weed_text[['dispensary_name']].iloc[:500].values.flatten()\n",
    "dispensaries = dispensaries.tolist()"
   ]
  },
  {
   "cell_type": "code",
   "execution_count": 126,
   "metadata": {
    "ExecuteTime": {
     "end_time": "2019-10-02T21:25:31.621995Z",
     "start_time": "2019-10-02T21:25:31.619425Z"
    }
   },
   "outputs": [],
   "source": [
    "name_to_ind = {}\n",
    "names = []\n",
    "ct = 0\n",
    "new_dispensaries = []\n",
    "for elem in dispensaries:\n",
    "    if elem not in name_to_ind:\n",
    "        name_to_ind[elem] = ct\n",
    "        names.append(elem)\n",
    "        ct += 1\n",
    "    new_dispensaries.append(name_to_ind[elem])"
   ]
  },
  {
   "cell_type": "code",
   "execution_count": 40,
   "metadata": {
    "ExecuteTime": {
     "end_time": "2019-10-02T11:38:52.232277Z",
     "start_time": "2019-10-02T11:38:52.111315Z"
    }
   },
   "outputs": [
    {
     "data": {
      "image/png": "[encoded data removed]",
      "text/plain": [
       "<Figure size 432x288 with 1 Axes>"
      ]
     },
     "metadata": {
      "needs_background": "light"
     },
     "output_type": "display_data"
    }
   ],
   "source": [
    "plt.title(\"TSNE of 500 descriptions colored by dispensary\")\n",
    "plt.scatter(bow_embedded[:, 0], bow_embedded[:, 1], c = new_dispensaries, s = 8.0)\n",
    "plt.show()"
   ]
  },
  {
   "cell_type": "code",
   "execution_count": 59,
   "metadata": {
    "ExecuteTime": {
     "end_time": "2019-10-02T12:02:06.287538Z",
     "start_time": "2019-10-02T12:02:06.097501Z"
    }
   },
   "outputs": [
    {
     "data": {
      "text/plain": [
       "['models/kmeans_bow_silh_ind.joblib']"
      ]
     },
     "execution_count": 59,
     "metadata": {},
     "output_type": "execute_result"
    }
   ],
   "source": [
    "from joblib import dump, load\n",
    "dump(kmeans_bow, 'models/kmeans_bow.joblib')\n",
    "dump(silhou_bow, 'models/kmeans_bow_silh.joblib')\n",
    "dump(silhou_ind, 'models/kmeans_bow_silh_ind.joblib')"
   ]
  },
  {
   "cell_type": "code",
   "execution_count": null,
   "metadata": {},
   "outputs": [],
   "source": [
    "num_clusters = 10\n",
    "kmeans_tfid = [Kmeans(n_clusters=x, random_state=0)\n",
    "               for x in range(1, num_clusters + 1)]\n",
    "silhou_tfid = [0 for x in range(num_clusters)]\n",
    "for i in range(num_clusters):\n",
    "    cluster_labels = kmeans_tfid[i].fit(tsvd_tfid)\n",
    "    silhou_tfid[i] = silhouette_score(tsvd_tfid, cluster_labels)"
   ]
  },
  {
   "cell_type": "markdown",
   "metadata": {},
   "source": [
    "## KNN (Unsupervised)"
   ]
  },
  {
   "cell_type": "markdown",
   "metadata": {},
   "source": [
    "| dimensions | training time | kneighbors time |\n",
    "|------------|---------------|-----------------|\n",
    "| 100        | 47.8 sec      | counting        |"
   ]
  },
  {
   "cell_type": "code",
   "execution_count": 3,
   "metadata": {
    "ExecuteTime": {
     "end_time": "2019-10-02T09:39:57.135515Z",
     "start_time": "2019-10-02T09:39:54.420189Z"
    }
   },
   "outputs": [],
   "source": [
    "cleaned_weed_text = pd.read_csv('datasets/cleaned_desc.csv')"
   ]
  },
  {
   "cell_type": "code",
   "execution_count": 6,
   "metadata": {
    "ExecuteTime": {
     "end_time": "2019-10-02T09:40:38.469385Z",
     "start_time": "2019-10-02T09:40:18.004574Z"
    }
   },
   "outputs": [],
   "source": [
    "from sklearn.neighbors import NearestNeighbors\n",
    "nbrs = NearestNeighbors(n_neighbors=5, algorithm='ball_tree').fit(tsvd_bow_npy)"
   ]
  },
  {
   "cell_type": "markdown",
   "metadata": {},
   "source": [
    "Example 1: $100.00 Oz's nearest neighbors"
   ]
  },
  {
   "cell_type": "code",
   "execution_count": 7,
   "metadata": {
    "ExecuteTime": {
     "end_time": "2019-10-02T09:40:51.573822Z",
     "start_time": "2019-10-02T09:40:51.371395Z"
    }
   },
   "outputs": [],
   "source": [
    "distances, indices = nbrs.kneighbors(tsvd_bow_npy[:1,:])"
   ]
  },
  {
   "cell_type": "code",
   "execution_count": 8,
   "metadata": {
    "ExecuteTime": {
     "end_time": "2019-10-02T09:40:57.537958Z",
     "start_time": "2019-10-02T09:40:57.520320Z"
    }
   },
   "outputs": [
    {
     "data": {
      "text/html": [
       "<div>\n",
       "<style scoped>\n",
       "    .dataframe tbody tr th:only-of-type {\n",
       "        vertical-align: middle;\n",
       "    }\n",
       "\n",
       "    .dataframe tbody tr th {\n",
       "        vertical-align: top;\n",
       "    }\n",
       "\n",
       "    .dataframe thead th {\n",
       "        text-align: right;\n",
       "    }\n",
       "</style>\n",
       "<table border=\"1\" class=\"dataframe\">\n",
       "  <thead>\n",
       "    <tr style=\"text-align: right;\">\n",
       "      <th></th>\n",
       "      <th>Unnamed: 0</th>\n",
       "      <th>dispensary_name</th>\n",
       "      <th>description</th>\n",
       "      <th>product_name</th>\n",
       "      <th>price_eighth</th>\n",
       "    </tr>\n",
       "  </thead>\n",
       "  <tbody>\n",
       "    <tr>\n",
       "      <th>17</th>\n",
       "      <td>28</td>\n",
       "      <td>$100.00 Oz</td>\n",
       "      <td>Lucifer OG by Karma Genetics is the devilish o...</td>\n",
       "      <td>(Outdoor) Lucifer OG $59.99 oz</td>\n",
       "      <td>0.0</td>\n",
       "    </tr>\n",
       "    <tr>\n",
       "      <th>0</th>\n",
       "      <td>0</td>\n",
       "      <td>$100.00 Oz</td>\n",
       "      <td>Lucifer OG by Karma Genetics is the devilish o...</td>\n",
       "      <td>(Outdoor) Lucifer OG $59.99 oz</td>\n",
       "      <td>0.0</td>\n",
       "    </tr>\n",
       "    <tr>\n",
       "      <th>34</th>\n",
       "      <td>56</td>\n",
       "      <td>$100.00 Oz</td>\n",
       "      <td>Lucifer OG by Karma Genetics is the devilish o...</td>\n",
       "      <td>(Outdoor) Lucifer OG $59.99 oz</td>\n",
       "      <td>0.0</td>\n",
       "    </tr>\n",
       "    <tr>\n",
       "      <th>70689</th>\n",
       "      <td>125676</td>\n",
       "      <td>Botanica - Tucson</td>\n",
       "      <td>(Biker Kush x Amnesia Og) Accompanied with a b...</td>\n",
       "      <td>Where's My Bike?</td>\n",
       "      <td>42.0</td>\n",
       "    </tr>\n",
       "    <tr>\n",
       "      <th>554157</th>\n",
       "      <td>869598</td>\n",
       "      <td>Jamestown Yuma</td>\n",
       "      <td>It was created by breeding the Calyx Garden Pi...</td>\n",
       "      <td>Pineapple Cookies</td>\n",
       "      <td>0.0</td>\n",
       "    </tr>\n",
       "  </tbody>\n",
       "</table>\n",
       "</div>"
      ],
      "text/plain": [
       "        Unnamed: 0    dispensary_name  \\\n",
       "17              28         $100.00 Oz   \n",
       "0                0         $100.00 Oz   \n",
       "34              56         $100.00 Oz   \n",
       "70689       125676  Botanica - Tucson   \n",
       "554157      869598     Jamestown Yuma   \n",
       "\n",
       "                                              description  \\\n",
       "17      Lucifer OG by Karma Genetics is the devilish o...   \n",
       "0       Lucifer OG by Karma Genetics is the devilish o...   \n",
       "34      Lucifer OG by Karma Genetics is the devilish o...   \n",
       "70689   (Biker Kush x Amnesia Og) Accompanied with a b...   \n",
       "554157  It was created by breeding the Calyx Garden Pi...   \n",
       "\n",
       "                          product_name  price_eighth  \n",
       "17      (Outdoor) Lucifer OG $59.99 oz           0.0  \n",
       "0       (Outdoor) Lucifer OG $59.99 oz           0.0  \n",
       "34      (Outdoor) Lucifer OG $59.99 oz           0.0  \n",
       "70689                 Where's My Bike?          42.0  \n",
       "554157               Pineapple Cookies           0.0  "
      ]
     },
     "execution_count": 8,
     "metadata": {},
     "output_type": "execute_result"
    }
   ],
   "source": [
    "close_to_first = indices[0]\n",
    "cleaned_weed_text.iloc[close_to_first]"
   ]
  },
  {
   "cell_type": "code",
   "execution_count": 71,
   "metadata": {
    "ExecuteTime": {
     "end_time": "2019-10-02T12:07:16.996295Z",
     "start_time": "2019-10-02T12:07:16.980812Z"
    }
   },
   "outputs": [
    {
     "name": "stdout",
     "output_type": "stream",
     "text": [
      "original\n",
      " Lucifer OG by Karma Genetics is the devilish offspring of aHells OGmother and a backcrossedSFV OG Kushmale. Emitting the classic kush aroma of pine and forest floor, this strain tends to grow larger than its parents and offers an ample, resinous harvest after its 9 to 11 week flowering time. Lucifer OGs mid-level euphoria helps dissolve stress while its compounding physical relaxation helps mitigate minor aches and pains. \n",
      "\n",
      "comparison1\n",
      " (Biker Kush x Amnesia Og) Accompanied with a beautiful fresh aroma, this sativa-dominant strain is great for a cerebral buzz also while relieving stress. \n",
      "\n",
      "comparison2\n",
      " It was created by breeding the Calyx Garden Pineapple OG Kush father (Poison OG x Purple Pineapple) with the long-lasting body-melter Platinum GSC. Relaxation and happiness creep across the body, gradually dissolving stress and depression as the consumers mood elevates. This strain's aroma is bright and buttery, exhibiting sweet notes from both its parents. \n",
      "\n"
     ]
    }
   ],
   "source": [
    "print('original\\n', cleaned_weed_text.iloc[close_to_first]['description'].iloc[0],'\\n')\n",
    "print('comparison1\\n', cleaned_weed_text.iloc[close_to_first]['description'].iloc[3], '\\n')\n",
    "print('comparison2\\n', cleaned_weed_text.iloc[close_to_first]['description'].iloc[4], '\\n')"
   ]
  },
  {
   "cell_type": "code",
   "execution_count": 80,
   "metadata": {
    "ExecuteTime": {
     "end_time": "2019-10-02T12:11:10.593011Z",
     "start_time": "2019-10-02T12:11:10.571594Z"
    }
   },
   "outputs": [
    {
     "data": {
      "text/plain": [
       "({'a', 'is', 'kush', 'strain', 'this', 'while'},\n",
       " {'and',\n",
       "  'aroma',\n",
       "  'by',\n",
       "  'is',\n",
       "  'its',\n",
       "  'kush',\n",
       "  'og',\n",
       "  'relaxation',\n",
       "  'stress',\n",
       "  'the',\n",
       "  'this'})"
      ]
     },
     "execution_count": 80,
     "metadata": {},
     "output_type": "execute_result"
    }
   ],
   "source": [
    "words_in_orig = set(cleaned_weed_text.iloc[close_to_first]['description'].iloc[0].lower().split(\" \"))\n",
    "words_in_new1 = set(cleaned_weed_text.iloc[close_to_first]['description'].iloc[3].lower().split(\" \"))\n",
    "words_in_new2 = set(cleaned_weed_text.iloc[close_to_first]['description'].iloc[4].lower().split(\" \"))\n",
    "words_in_orig.intersection(words_in_new1), words_in_orig.intersection(words_in_new2)"
   ]
  },
  {
   "cell_type": "markdown",
   "metadata": {},
   "source": [
    "Example 2"
   ]
  },
  {
   "cell_type": "code",
   "execution_count": 63,
   "metadata": {
    "ExecuteTime": {
     "end_time": "2019-10-02T12:04:35.389972Z",
     "start_time": "2019-10-02T12:04:34.167327Z"
    }
   },
   "outputs": [],
   "source": [
    "distances1, indices1 = nbrs.kneighbors(tsvd_bow_npy[100:101,:])"
   ]
  },
  {
   "cell_type": "code",
   "execution_count": 66,
   "metadata": {
    "ExecuteTime": {
     "end_time": "2019-10-02T12:05:07.535510Z",
     "start_time": "2019-10-02T12:05:07.512912Z"
    }
   },
   "outputs": [
    {
     "data": {
      "text/html": [
       "<div>\n",
       "<style scoped>\n",
       "    .dataframe tbody tr th:only-of-type {\n",
       "        vertical-align: middle;\n",
       "    }\n",
       "\n",
       "    .dataframe tbody tr th {\n",
       "        vertical-align: top;\n",
       "    }\n",
       "\n",
       "    .dataframe thead th {\n",
       "        text-align: right;\n",
       "    }\n",
       "</style>\n",
       "<table border=\"1\" class=\"dataframe\">\n",
       "  <thead>\n",
       "    <tr style=\"text-align: right;\">\n",
       "      <th></th>\n",
       "      <th>Unnamed: 0</th>\n",
       "      <th>dispensary_name</th>\n",
       "      <th>description</th>\n",
       "      <th>product_name</th>\n",
       "      <th>price_eighth</th>\n",
       "    </tr>\n",
       "  </thead>\n",
       "  <tbody>\n",
       "    <tr>\n",
       "      <th>100</th>\n",
       "      <td>177</td>\n",
       "      <td>1 LOVE SERVICES</td>\n",
       "      <td>Master Kush, MK, is a popular indica cross bet...</td>\n",
       "      <td>Master Kush</td>\n",
       "      <td>40.0</td>\n",
       "    </tr>\n",
       "    <tr>\n",
       "      <th>752616</th>\n",
       "      <td>1172831</td>\n",
       "      <td>WEED MONKEY</td>\n",
       "      <td>Bubba Star is an Indica cross between Star Kus...</td>\n",
       "      <td>Bubba Star AAAA</td>\n",
       "      <td>33.0</td>\n",
       "    </tr>\n",
       "    <tr>\n",
       "      <th>752268</th>\n",
       "      <td>1172478</td>\n",
       "      <td>WEED MONKEY</td>\n",
       "      <td>Bubba Star is an Indica cross between Star Kus...</td>\n",
       "      <td>Bubba Star AAAA</td>\n",
       "      <td>33.0</td>\n",
       "    </tr>\n",
       "    <tr>\n",
       "      <th>752062</th>\n",
       "      <td>1172269</td>\n",
       "      <td>WEED MONKEY</td>\n",
       "      <td>Bubba Star is an Indica cross between Star Kus...</td>\n",
       "      <td>Bubba Star AAAA</td>\n",
       "      <td>33.0</td>\n",
       "    </tr>\n",
       "    <tr>\n",
       "      <th>752477</th>\n",
       "      <td>1172690</td>\n",
       "      <td>WEED MONKEY</td>\n",
       "      <td>Bubba Star is an Indica cross between Star Kus...</td>\n",
       "      <td>Bubba Star AAAA</td>\n",
       "      <td>33.0</td>\n",
       "    </tr>\n",
       "  </tbody>\n",
       "</table>\n",
       "</div>"
      ],
      "text/plain": [
       "        Unnamed: 0  dispensary_name  \\\n",
       "100            177  1 LOVE SERVICES   \n",
       "752616     1172831      WEED MONKEY   \n",
       "752268     1172478      WEED MONKEY   \n",
       "752062     1172269      WEED MONKEY   \n",
       "752477     1172690      WEED MONKEY   \n",
       "\n",
       "                                              description     product_name  \\\n",
       "100     Master Kush, MK, is a popular indica cross bet...      Master Kush   \n",
       "752616  Bubba Star is an Indica cross between Star Kus...  Bubba Star AAAA   \n",
       "752268  Bubba Star is an Indica cross between Star Kus...  Bubba Star AAAA   \n",
       "752062  Bubba Star is an Indica cross between Star Kus...  Bubba Star AAAA   \n",
       "752477  Bubba Star is an Indica cross between Star Kus...  Bubba Star AAAA   \n",
       "\n",
       "        price_eighth  \n",
       "100             40.0  \n",
       "752616          33.0  \n",
       "752268          33.0  \n",
       "752062          33.0  \n",
       "752477          33.0  "
      ]
     },
     "execution_count": 66,
     "metadata": {},
     "output_type": "execute_result"
    }
   ],
   "source": [
    "cleaned_weed_text.iloc[indices1[0]]"
   ]
  },
  {
   "cell_type": "code",
   "execution_count": 72,
   "metadata": {
    "ExecuteTime": {
     "end_time": "2019-10-02T12:08:55.465836Z",
     "start_time": "2019-10-02T12:08:55.458732Z"
    }
   },
   "outputs": [
    {
     "name": "stdout",
     "output_type": "stream",
     "text": [
      "original\n",
      " Master Kush, MK, is a popular indica cross between Hindu Kush and Skunk, Its aroma is nearly undetectable, but it produces a subtle earthy, citrus taste. With MK, you can anticipate full-body relaxation coupled with sharpened sensory awareness that can bring out the best of any activity. \n",
      "\n",
      "comparison1\n",
      " Bubba Star is an Indica cross between Star Kush and Bubba Kush. \n",
      "\n"
     ]
    }
   ],
   "source": [
    "print('original\\n', cleaned_weed_text.iloc[indices1[0]]['description'].iloc[0],'\\n')\n",
    "print('comparison1\\n', cleaned_weed_text.iloc[indices1[0]]['description'].iloc[3], '\\n')"
   ]
  },
  {
   "cell_type": "code",
   "execution_count": 79,
   "metadata": {
    "ExecuteTime": {
     "end_time": "2019-10-02T12:10:56.316612Z",
     "start_time": "2019-10-02T12:10:56.299382Z"
    }
   },
   "outputs": [
    {
     "data": {
      "text/plain": [
       "{'and', 'between', 'cross', 'indica', 'is', 'kush'}"
      ]
     },
     "execution_count": 79,
     "metadata": {},
     "output_type": "execute_result"
    }
   ],
   "source": [
    "words_in_orig = set(cleaned_weed_text.iloc[indices1[0]]['description'].iloc[0].lower().split(\" \"))\n",
    "words_in_new1 = set(cleaned_weed_text.iloc[indices1[0]]['description'].iloc[3].lower().split(\" \"))\n",
    "words_in_orig.intersection(words_in_new1)"
   ]
  }
 ],
 "metadata": {
  "kernelspec": {
   "display_name": "Python 3",
   "language": "python",
   "name": "python3"
  },
  "language_info": {
   "codemirror_mode": {
    "name": "ipython",
    "version": 3
   },
   "file_extension": ".py",
   "mimetype": "text/x-python",
   "name": "python",
   "nbconvert_exporter": "python",
   "pygments_lexer": "ipython3",
   "version": "3.5.6"
  },
  "toc": {
   "base_numbering": 1,
   "nav_menu": {},
   "number_sections": true,
   "sideBar": true,
   "skip_h1_title": false,
   "title_cell": "Table of Contents",
   "title_sidebar": "Contents",
   "toc_cell": false,
   "toc_position": {
    "height": "calc(100% - 180px)",
    "left": "10px",
    "top": "150px",
    "width": "270px"
   },
   "toc_section_display": true,
   "toc_window_display": true
  },
  "varInspector": {
   "cols": {
    "lenName": 16,
    "lenType": 16,
    "lenVar": 40
   },
   "kernels_config": {
    "python": {
     "delete_cmd_postfix": "",
     "delete_cmd_prefix": "del ",
     "library": "var_list.py",
     "varRefreshCmd": "print(var_dic_list())"
    },
    "r": {
     "delete_cmd_postfix": ") ",
     "delete_cmd_prefix": "rm(",
     "library": "var_list.r",
     "varRefreshCmd": "cat(var_dic_list()) "
    }
   },
   "position": {
    "height": "692.85px",
    "left": "1539px",
    "right": "20px",
    "top": "125px",
    "width": "350px"
   },
   "types_to_exclude": [
    "module",
    "function",
    "builtin_function_or_method",
    "instance",
    "_Feature"
   ],
   "window_display": true
  }
 },
 "nbformat": 4,
 "nbformat_minor": 2
}
