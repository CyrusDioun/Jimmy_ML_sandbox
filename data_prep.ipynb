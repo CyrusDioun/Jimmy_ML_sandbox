{
 "cells": [
  {
   "cell_type": "markdown",
   "metadata": {},
   "source": [
    "To_do:\n",
    "* Need to extend knn to cosine/euclidean distance.\n",
    "* get LDA components/topics [done]\n",
    "* Extract thc concentration\n",
    "\n",
    "Food for thought\n",
    "* Think about the way we choose the number of dimensions (ie ``min_df``), make it so that the whole pipeline can be optimized with this in mind\n",
    "\n",
    "Some questions\n",
    "* Removing least common words from analysis is beneficial but can get rid of percentages, which is an important part of the data (ie thc 15%), could encode in a more efficient way"
   ]
  },
  {
   "cell_type": "markdown",
   "metadata": {},
   "source": [
    "# Preprocessing"
   ]
  },
  {
   "cell_type": "code",
   "execution_count": 1,
   "metadata": {
    "ExecuteTime": {
     "end_time": "2019-10-06T22:48:11.657933Z",
     "start_time": "2019-10-06T22:48:10.642252Z"
    }
   },
   "outputs": [],
   "source": [
    "import pandas as pd\n",
    "import numpy as np\n",
    "from nltk.corpus import stopwords\n",
    "import matplotlib.pyplot as plt\n",
    "from scipy.sparse import save_npz, load_npz\n",
    "import gensim"
   ]
  },
  {
   "cell_type": "code",
   "execution_count": 2,
   "metadata": {
    "ExecuteTime": {
     "end_time": "2019-10-06T22:48:49.493307Z",
     "start_time": "2019-10-06T22:48:45.032703Z"
    }
   },
   "outputs": [],
   "source": [
    "scraped_fn = 'datasets/190919ProductScrape291_subset.csv'\n",
    "weed_text = pd.read_csv(scraped_fn)"
   ]
  },
  {
   "cell_type": "code",
   "execution_count": 3,
   "metadata": {
    "ExecuteTime": {
     "end_time": "2019-10-06T22:48:49.531087Z",
     "start_time": "2019-10-06T22:48:49.517835Z"
    }
   },
   "outputs": [
    {
     "data": {
      "text/html": [
       "<div>\n",
       "<style scoped>\n",
       "    .dataframe tbody tr th:only-of-type {\n",
       "        vertical-align: middle;\n",
       "    }\n",
       "\n",
       "    .dataframe tbody tr th {\n",
       "        vertical-align: top;\n",
       "    }\n",
       "\n",
       "    .dataframe thead th {\n",
       "        text-align: right;\n",
       "    }\n",
       "</style>\n",
       "<table border=\"1\" class=\"dataframe\">\n",
       "  <thead>\n",
       "    <tr style=\"text-align: right;\">\n",
       "      <th></th>\n",
       "      <th>scrape_number</th>\n",
       "      <th>dispensary_name</th>\n",
       "      <th>license_type</th>\n",
       "      <th>address</th>\n",
       "      <th>city</th>\n",
       "      <th>state</th>\n",
       "      <th>product_name</th>\n",
       "      <th>classification</th>\n",
       "      <th>description</th>\n",
       "      <th>price_eighth</th>\n",
       "    </tr>\n",
       "  </thead>\n",
       "  <tbody>\n",
       "    <tr>\n",
       "      <th>0</th>\n",
       "      <td>291</td>\n",
       "      <td>$100.00 Oz</td>\n",
       "      <td>medical</td>\n",
       "      <td>San Marcos,CA 92069</td>\n",
       "      <td>San Marcos</td>\n",
       "      <td>CA</td>\n",
       "      <td>(Outdoor) Lucifer OG $59.99 oz</td>\n",
       "      <td>Indica</td>\n",
       "      <td>Lucifer OG by Karma Genetics is the devilish o...</td>\n",
       "      <td>0.0</td>\n",
       "    </tr>\n",
       "    <tr>\n",
       "      <th>1</th>\n",
       "      <td>291</td>\n",
       "      <td>$100.00 Oz</td>\n",
       "      <td>medical</td>\n",
       "      <td>San Marcos,CA 92069</td>\n",
       "      <td>San Marcos</td>\n",
       "      <td>CA</td>\n",
       "      <td>(P.R.) Cake Batter OG $165oz</td>\n",
       "      <td>Indica</td>\n",
       "      <td>Soooooo frosty ! Pure Fire!! Get in while its ...</td>\n",
       "      <td>35.0</td>\n",
       "    </tr>\n",
       "    <tr>\n",
       "      <th>2</th>\n",
       "      <td>291</td>\n",
       "      <td>$100.00 Oz</td>\n",
       "      <td>medical</td>\n",
       "      <td>San Marcos,CA 92069</td>\n",
       "      <td>San Marcos</td>\n",
       "      <td>CA</td>\n",
       "      <td>(Light Dep)Greasy Grapes $100oz</td>\n",
       "      <td>Indica</td>\n",
       "      <td>This fast-acting strain delivers energizing, d...</td>\n",
       "      <td>0.0</td>\n",
       "    </tr>\n",
       "    <tr>\n",
       "      <th>3</th>\n",
       "      <td>291</td>\n",
       "      <td>$100.00 Oz</td>\n",
       "      <td>medical</td>\n",
       "      <td>San Marcos,CA 92069</td>\n",
       "      <td>San Marcos</td>\n",
       "      <td>CA</td>\n",
       "      <td>(PR)Face Off OG $165.00oz</td>\n",
       "      <td>Indica</td>\n",
       "      <td>NaN</td>\n",
       "      <td>0.0</td>\n",
       "    </tr>\n",
       "    <tr>\n",
       "      <th>4</th>\n",
       "      <td>291</td>\n",
       "      <td>$100.00 Oz</td>\n",
       "      <td>medical</td>\n",
       "      <td>San Marcos,CA 92069</td>\n",
       "      <td>San Marcos</td>\n",
       "      <td>CA</td>\n",
       "      <td>(Top) Cookie Jar $125 oz</td>\n",
       "      <td>Indica</td>\n",
       "      <td>Cookie Jar is a dessert blend ofPlatinum Girl ...</td>\n",
       "      <td>0.0</td>\n",
       "    </tr>\n",
       "  </tbody>\n",
       "</table>\n",
       "</div>"
      ],
      "text/plain": [
       "   scrape_number dispensary_name license_type              address  \\\n",
       "0            291      $100.00 Oz      medical  San Marcos,CA 92069   \n",
       "1            291      $100.00 Oz      medical  San Marcos,CA 92069   \n",
       "2            291      $100.00 Oz      medical  San Marcos,CA 92069   \n",
       "3            291      $100.00 Oz      medical  San Marcos,CA 92069   \n",
       "4            291      $100.00 Oz      medical  San Marcos,CA 92069   \n",
       "\n",
       "         city state                     product_name classification  \\\n",
       "0  San Marcos    CA   (Outdoor) Lucifer OG $59.99 oz         Indica   \n",
       "1  San Marcos    CA     (P.R.) Cake Batter OG $165oz         Indica   \n",
       "2  San Marcos    CA  (Light Dep)Greasy Grapes $100oz         Indica   \n",
       "3  San Marcos    CA        (PR)Face Off OG $165.00oz         Indica   \n",
       "4  San Marcos    CA         (Top) Cookie Jar $125 oz         Indica   \n",
       "\n",
       "                                         description  price_eighth  \n",
       "0  Lucifer OG by Karma Genetics is the devilish o...           0.0  \n",
       "1  Soooooo frosty ! Pure Fire!! Get in while its ...          35.0  \n",
       "2  This fast-acting strain delivers energizing, d...           0.0  \n",
       "3                                                NaN           0.0  \n",
       "4  Cookie Jar is a dessert blend ofPlatinum Girl ...           0.0  "
      ]
     },
     "execution_count": 3,
     "metadata": {},
     "output_type": "execute_result"
    }
   ],
   "source": [
    "weed_text.head()"
   ]
  },
  {
   "cell_type": "code",
   "execution_count": 4,
   "metadata": {
    "ExecuteTime": {
     "end_time": "2019-10-06T22:48:51.208444Z",
     "start_time": "2019-10-06T22:48:51.032683Z"
    }
   },
   "outputs": [
    {
     "name": "stdout",
     "output_type": "stream",
     "text": [
      "number of NA in description 720475/1944293: 0.3706\n"
     ]
    }
   ],
   "source": [
    "num_rows = weed_text.shape[0]\n",
    "num_na = weed_text['description'].isna().sum()\n",
    "num_dispensaries = weed_text['dispensary_name'].nunique()\n",
    "\n",
    "print('number of NA in description {0}/{1}: {2:.4f}'.format(num_na, num_rows, num_na/num_rows))"
   ]
  },
  {
   "cell_type": "code",
   "execution_count": 5,
   "metadata": {
    "ExecuteTime": {
     "end_time": "2019-10-06T22:50:46.175632Z",
     "start_time": "2019-10-06T22:48:52.373043Z"
    },
    "scrolled": true
   },
   "outputs": [
    {
     "data": {
      "text/plain": [
       "0    lucifer og karma genetics devilish offspring a...\n",
       "1                   soooooo frosty pure fire get stock\n",
       "2    fastacting strain delivers energizing dreamy c...\n",
       "4    cookie jar dessert blend ofplatinum girl scout...\n",
       "7    jordan island matched two sweetest tasting flo...\n",
       "Name: description, dtype: object"
      ]
     },
     "execution_count": 5,
     "metadata": {},
     "output_type": "execute_result"
    }
   ],
   "source": [
    "from nltk import word_tokenize\n",
    "from nltk.stem import WordNetLemmatizer\n",
    "# clean data (remove punctuation, dropna, etc.)\n",
    "# manually remove stopwords and lemmatize\n",
    "english_stopwords = set(stopwords.words('english'))\n",
    "wnl = WordNetLemmatizer()\n",
    "def fn(a):\n",
    "    a = [wnl.lemmatize(t) for t in a.split() if t not in english_stopwords]\n",
    "    return ' '.join(a)\n",
    "clean_description = weed_text['description'].dropna()\n",
    "clean_description = clean_description.str.replace('[!\"#$&\\'()*+,:;<=>?@[\\\\]^_`{|}~/-]', '')\n",
    "clean_description = clean_description.str.lower()\n",
    "clean_description = clean_description.str.strip()\n",
    "clean_description = clean_description.apply(fn)\n",
    "clean_description[:5]"
   ]
  },
  {
   "cell_type": "code",
   "execution_count": 121,
   "metadata": {
    "ExecuteTime": {
     "end_time": "2019-10-07T04:44:51.075003Z",
     "start_time": "2019-10-07T04:44:43.716934Z"
    }
   },
   "outputs": [
    {
     "name": "stdout",
     "output_type": "stream",
     "text": [
      "tapout potent cannabis strain designed hightolerance consumers. strainsmonster cookiesxyetiogxbloos kloosheritage boast large yield potency well 20% thc.\n"
     ]
    }
   ],
   "source": [
    "for elem in clean_description:\n",
    "    if ('thc' in elem and '%' in elem):\n",
    "        print(elem)\n",
    "        break"
   ]
  },
  {
   "cell_type": "code",
   "execution_count": 6,
   "metadata": {
    "ExecuteTime": {
     "end_time": "2019-10-06T22:50:46.363549Z",
     "start_time": "2019-10-06T22:50:46.198651Z"
    }
   },
   "outputs": [
    {
     "data": {
      "text/html": [
       "<div>\n",
       "<style scoped>\n",
       "    .dataframe tbody tr th:only-of-type {\n",
       "        vertical-align: middle;\n",
       "    }\n",
       "\n",
       "    .dataframe tbody tr th {\n",
       "        vertical-align: top;\n",
       "    }\n",
       "\n",
       "    .dataframe thead th {\n",
       "        text-align: right;\n",
       "    }\n",
       "</style>\n",
       "<table border=\"1\" class=\"dataframe\">\n",
       "  <thead>\n",
       "    <tr style=\"text-align: right;\">\n",
       "      <th></th>\n",
       "      <th>dispensary_name</th>\n",
       "      <th>description</th>\n",
       "      <th>product_name</th>\n",
       "      <th>price_eighth</th>\n",
       "    </tr>\n",
       "  </thead>\n",
       "  <tbody>\n",
       "    <tr>\n",
       "      <th>0</th>\n",
       "      <td>$100.00 Oz</td>\n",
       "      <td>Lucifer OG by Karma Genetics is the devilish o...</td>\n",
       "      <td>(Outdoor) Lucifer OG $59.99 oz</td>\n",
       "      <td>0.0</td>\n",
       "    </tr>\n",
       "    <tr>\n",
       "      <th>1</th>\n",
       "      <td>$100.00 Oz</td>\n",
       "      <td>Soooooo frosty ! Pure Fire!! Get in while its ...</td>\n",
       "      <td>(P.R.) Cake Batter OG $165oz</td>\n",
       "      <td>35.0</td>\n",
       "    </tr>\n",
       "    <tr>\n",
       "      <th>2</th>\n",
       "      <td>$100.00 Oz</td>\n",
       "      <td>This fast-acting strain delivers energizing, d...</td>\n",
       "      <td>(Light Dep)Greasy Grapes $100oz</td>\n",
       "      <td>0.0</td>\n",
       "    </tr>\n",
       "    <tr>\n",
       "      <th>4</th>\n",
       "      <td>$100.00 Oz</td>\n",
       "      <td>Cookie Jar is a dessert blend ofPlatinum Girl ...</td>\n",
       "      <td>(Top) Cookie Jar $125 oz</td>\n",
       "      <td>0.0</td>\n",
       "    </tr>\n",
       "    <tr>\n",
       "      <th>7</th>\n",
       "      <td>$100.00 Oz</td>\n",
       "      <td>Jordan of the Islands matched two of the sweet...</td>\n",
       "      <td>Blue Treat 100oz 100oz 100oz 100oz 100oz</td>\n",
       "      <td>35.0</td>\n",
       "    </tr>\n",
       "  </tbody>\n",
       "</table>\n",
       "</div>"
      ],
      "text/plain": [
       "  dispensary_name                                        description  \\\n",
       "0      $100.00 Oz  Lucifer OG by Karma Genetics is the devilish o...   \n",
       "1      $100.00 Oz  Soooooo frosty ! Pure Fire!! Get in while its ...   \n",
       "2      $100.00 Oz  This fast-acting strain delivers energizing, d...   \n",
       "4      $100.00 Oz  Cookie Jar is a dessert blend ofPlatinum Girl ...   \n",
       "7      $100.00 Oz  Jordan of the Islands matched two of the sweet...   \n",
       "\n",
       "                               product_name  price_eighth  \n",
       "0            (Outdoor) Lucifer OG $59.99 oz           0.0  \n",
       "1              (P.R.) Cake Batter OG $165oz          35.0  \n",
       "2           (Light Dep)Greasy Grapes $100oz           0.0  \n",
       "4                  (Top) Cookie Jar $125 oz           0.0  \n",
       "7  Blue Treat 100oz 100oz 100oz 100oz 100oz          35.0  "
      ]
     },
     "execution_count": 6,
     "metadata": {},
     "output_type": "execute_result"
    }
   ],
   "source": [
    "cleaned_weed_text = weed_text.iloc[clean_description.index][['dispensary_name', 'description', 'product_name', 'price_eighth']]\n",
    "cleaned_weed_text.head()"
   ]
  },
  {
   "cell_type": "markdown",
   "metadata": {},
   "source": [
    "Note that ``min_df = 0.001`` may get rid of important information regarding thc content (ie thc 76.14%)"
   ]
  },
  {
   "cell_type": "code",
   "execution_count": 134,
   "metadata": {
    "ExecuteTime": {
     "end_time": "2019-10-07T05:11:12.475582Z",
     "start_time": "2019-10-07T05:10:46.670748Z"
    }
   },
   "outputs": [],
   "source": [
    "from sklearn.feature_extraction.text import CountVectorizer\n",
    "desc_vectorizer = CountVectorizer(min_df = 0.001)\n",
    "vec_desc = desc_vectorizer.fit_transform(clean_description)\n",
    "# save_npz('datasets/bag_of_words.npz', matrix = vec_desc)"
   ]
  },
  {
   "cell_type": "code",
   "execution_count": 148,
   "metadata": {
    "ExecuteTime": {
     "end_time": "2019-10-07T05:37:08.406717Z",
     "start_time": "2019-10-07T05:37:08.393483Z"
    }
   },
   "outputs": [
    {
     "data": {
      "text/plain": [
       "['00', '01', '02', '03', '04']"
      ]
     },
     "execution_count": 148,
     "metadata": {},
     "output_type": "execute_result"
    }
   ],
   "source": [
    "vec_voc = dict(desc_vectorizer.vocabulary_)\n",
    "words = [0] * len(desc_vectorizer.vocabulary_)\n",
    "for key in desc_vectorizer.vocabulary_.keys():\n",
    "    words[vec_voc[key]] = key\n",
    "words[:5]"
   ]
  },
  {
   "cell_type": "code",
   "execution_count": 8,
   "metadata": {
    "ExecuteTime": {
     "end_time": "2019-10-02T07:19:50.221100Z",
     "start_time": "2019-10-02T07:19:39.584553Z"
    },
    "scrolled": true
   },
   "outputs": [
    {
     "data": {
      "text/plain": [
       "0.7814382725477989"
      ]
     },
     "execution_count": 8,
     "metadata": {},
     "output_type": "execute_result"
    }
   ],
   "source": [
    "def count_perc(data, vocabulary):\n",
    "    def calculate_found_and_total(sentence):\n",
    "        split_sentence = sentence.split()\n",
    "        found_words = [word for word in sentence.split() if word in vocabulary]\n",
    "        return len(found_words), len(split_sentence)\n",
    "    adj_data = data.apply(calculate_found_and_total)\n",
    "    return np.sum(adj_data.apply(lambda x: x[0])) / np.sum(adj_data.apply(lambda x: x[1])) \n",
    "count_perc(clean_description, desc_vectorizer.vocabulary_)"
   ]
  },
  {
   "cell_type": "code",
   "execution_count": null,
   "metadata": {},
   "outputs": [],
   "source": [
    "cleaned_weed_text.to_csv('datasets/cleaned_desc.csv')"
   ]
  },
  {
   "cell_type": "code",
   "execution_count": 10,
   "metadata": {
    "ExecuteTime": {
     "end_time": "2019-10-02T07:20:01.970462Z",
     "start_time": "2019-10-02T07:20:00.766393Z"
    }
   },
   "outputs": [],
   "source": [
    "from sklearn.feature_extraction.text import TfidfTransformer\n",
    "tf_transformer = TfidfTransformer(use_idf=False)\n",
    "tfid_desc = tf_transformer.fit_transform(vec_desc)"
   ]
  },
  {
   "cell_type": "code",
   "execution_count": null,
   "metadata": {},
   "outputs": [],
   "source": [
    "save_npz('datasets/term_freq.npz', matrix = tfid_desc)"
   ]
  },
  {
   "cell_type": "markdown",
   "metadata": {},
   "source": [
    "## Doc2Vec"
   ]
  },
  {
   "cell_type": "code",
   "execution_count": null,
   "metadata": {},
   "outputs": [],
   "source": [
    "# no min_count\n",
    "# 129 ms for 1,000\n",
    "# 710 ms for 10,000\n",
    "# 9.42 s for 100,000 (goes to 7s with min_count = 10)\n",
    "# 45   s for 500,000"
   ]
  },
  {
   "cell_type": "code",
   "execution_count": 7,
   "metadata": {
    "ExecuteTime": {
     "end_time": "2019-10-06T22:51:08.651768Z",
     "start_time": "2019-10-06T22:51:06.407022Z"
    }
   },
   "outputs": [],
   "source": [
    "sentences = []\n",
    "num = 0\n",
    "for elem in clean_description.values[:500000]:\n",
    "    curr_sentence = elem.split(\" \")\n",
    "    num += len(curr_sentence)\n",
    "    sentences.append(curr_sentence) # 12 seconds with 500k"
   ]
  },
  {
   "cell_type": "code",
   "execution_count": 63,
   "metadata": {
    "ExecuteTime": {
     "end_time": "2019-10-07T03:22:02.603434Z",
     "start_time": "2019-10-07T03:15:42.387215Z"
    }
   },
   "outputs": [],
   "source": [
    "from gensim.models.doc2vec import Doc2Vec, TaggedDocument\n",
    "documents = [TaggedDocument(doc, [i]) for i, doc in enumerate(sentences)]\n",
    "d2v_model = Doc2Vec(documents, vector_size=50, min_count=5000)\n",
    "# d2v_model.build_vocab(documents)\n",
    "d2v_model.train(documents, total_examples=d2v_model.corpus_count, epochs=20)"
   ]
  },
  {
   "cell_type": "code",
   "execution_count": 64,
   "metadata": {
    "ExecuteTime": {
     "end_time": "2019-10-07T03:26:05.720892Z",
     "start_time": "2019-10-07T03:26:04.897100Z"
    }
   },
   "outputs": [],
   "source": [
    "d2v_data = np.zeros((500000, 50))\n",
    "for i in range(500000):\n",
    "    d2v_data[i] = d2v_model.docvecs[i]"
   ]
  },
  {
   "cell_type": "code",
   "execution_count": 70,
   "metadata": {
    "ExecuteTime": {
     "end_time": "2019-10-07T03:47:40.297674Z",
     "start_time": "2019-10-07T03:47:40.096513Z"
    }
   },
   "outputs": [],
   "source": [
    "np.save('datasets/d2v_data.npy', d2v_data)"
   ]
  },
  {
   "cell_type": "markdown",
   "metadata": {},
   "source": [
    "## Word2Vec"
   ]
  },
  {
   "cell_type": "code",
   "execution_count": 104,
   "metadata": {
    "ExecuteTime": {
     "end_time": "2019-10-07T04:33:31.968884Z",
     "start_time": "2019-10-07T04:32:03.144429Z"
    }
   },
   "outputs": [
    {
     "data": {
      "text/plain": [
       "(141577316, 310727060)"
      ]
     },
     "execution_count": 104,
     "metadata": {},
     "output_type": "execute_result"
    }
   ],
   "source": [
    "from gensim.models import Word2Vec\n",
    "w2v_model = Word2Vec(min_count = 5000, seed = 1)\n",
    "w2v_model.build_vocab(sentences)\n",
    "w2v_model.train(sentences, total_examples=w2v_model.corpus_count, epochs=20)"
   ]
  },
  {
   "cell_type": "code",
   "execution_count": 105,
   "metadata": {
    "ExecuteTime": {
     "end_time": "2019-10-07T04:33:48.542909Z",
     "start_time": "2019-10-07T04:33:48.511835Z"
    }
   },
   "outputs": [
    {
     "data": {
      "text/plain": [
       "{'0.0%': <gensim.models.keyedvectors.Vocab at 0x7f84700c3898>,\n",
       " '0.1%': <gensim.models.keyedvectors.Vocab at 0x7f84700c1c50>,\n",
       " '0mg': <gensim.models.keyedvectors.Vocab at 0x7f84700c3ac8>,\n",
       " '1': <gensim.models.keyedvectors.Vocab at 0x7f84700c67f0>,\n",
       " '10': <gensim.models.keyedvectors.Vocab at 0x7f84700c5ba8>,\n",
       " '100': <gensim.models.keyedvectors.Vocab at 0x7f84700c6390>,\n",
       " '100%': <gensim.models.keyedvectors.Vocab at 0x7f8454a10c50>,\n",
       " '1000mg': <gensim.models.keyedvectors.Vocab at 0x7f84700c0128>,\n",
       " '100mg': <gensim.models.keyedvectors.Vocab at 0x7f84700c3e48>,\n",
       " '10mg': <gensim.models.keyedvectors.Vocab at 0x7f84700c6438>,\n",
       " '11': <gensim.models.keyedvectors.Vocab at 0x7f84700c5e10>,\n",
       " '12': <gensim.models.keyedvectors.Vocab at 0x7f84700c3be0>,\n",
       " '1g': <gensim.models.keyedvectors.Vocab at 0x7f84700c6588>,\n",
       " '2': <gensim.models.keyedvectors.Vocab at 0x7f84700c1a20>,\n",
       " '20': <gensim.models.keyedvectors.Vocab at 0x7f84700c0a90>,\n",
       " '3': <gensim.models.keyedvectors.Vocab at 0x7f84700c0ac8>,\n",
       " '30': <gensim.models.keyedvectors.Vocab at 0x7f84700c1b38>,\n",
       " '300mg': <gensim.models.keyedvectors.Vocab at 0x7f84700c8160>,\n",
       " '4': <gensim.models.keyedvectors.Vocab at 0x7f84700c33c8>,\n",
       " '5': <gensim.models.keyedvectors.Vocab at 0x7f8454a0bf98>,\n",
       " '500mg': <gensim.models.keyedvectors.Vocab at 0x7f84700c0b00>,\n",
       " '50mg': <gensim.models.keyedvectors.Vocab at 0x7f84700c6518>,\n",
       " '510': <gensim.models.keyedvectors.Vocab at 0x7f84700c2588>,\n",
       " '5mg': <gensim.models.keyedvectors.Vocab at 0x7f84700c27f0>,\n",
       " '8': <gensim.models.keyedvectors.Vocab at 0x7f84700c1470>,\n",
       " '80%': <gensim.models.keyedvectors.Vocab at 0x7f84700c0f28>,\n",
       " '90%': <gensim.models.keyedvectors.Vocab at 0x7f8454a09978>,\n",
       " 'ache': <gensim.models.keyedvectors.Vocab at 0x7f84700c6b70>,\n",
       " 'acid': <gensim.models.keyedvectors.Vocab at 0x7f84700c69b0>,\n",
       " 'activated': <gensim.models.keyedvectors.Vocab at 0x7f84700c2978>,\n",
       " 'active': <gensim.models.keyedvectors.Vocab at 0x7f84700c0b70>,\n",
       " 'add': <gensim.models.keyedvectors.Vocab at 0x7f84700c2898>,\n",
       " 'added': <gensim.models.keyedvectors.Vocab at 0x7f84700c1c18>,\n",
       " 'addition': <gensim.models.keyedvectors.Vocab at 0x7f84700c3198>,\n",
       " 'advanced': <gensim.models.keyedvectors.Vocab at 0x7f84700c5f98>,\n",
       " 'also': <gensim.models.keyedvectors.Vocab at 0x7f84700c3320>,\n",
       " 'among': <gensim.models.keyedvectors.Vocab at 0x7f8454a10320>,\n",
       " 'amount': <gensim.models.keyedvectors.Vocab at 0x7f84700c0f98>,\n",
       " 'angeles': <gensim.models.keyedvectors.Vocab at 0x7f84700c3ef0>,\n",
       " 'anxiety': <gensim.models.keyedvectors.Vocab at 0x7f84700c6fd0>,\n",
       " 'apinene': <gensim.models.keyedvectors.Vocab at 0x7f84700c2518>,\n",
       " 'appetite': <gensim.models.keyedvectors.Vocab at 0x7f84700c1c88>,\n",
       " 'apple': <gensim.models.keyedvectors.Vocab at 0x7f8454a104a8>,\n",
       " 'area': <gensim.models.keyedvectors.Vocab at 0x7f84700c3668>,\n",
       " 'aroma': <gensim.models.keyedvectors.Vocab at 0x7f84700c1ef0>,\n",
       " 'aroma.': <gensim.models.keyedvectors.Vocab at 0x7f8454a0b1d0>,\n",
       " 'around': <gensim.models.keyedvectors.Vocab at 0x7f84700c8cc0>,\n",
       " 'available': <gensim.models.keyedvectors.Vocab at 0x7f84700c34a8>,\n",
       " 'available.': <gensim.models.keyedvectors.Vocab at 0x7f84700c30f0>,\n",
       " 'award': <gensim.models.keyedvectors.Vocab at 0x7f84700c51d0>,\n",
       " 'awardwinning': <gensim.models.keyedvectors.Vocab at 0x7f84700c6c18>,\n",
       " 'away': <gensim.models.keyedvectors.Vocab at 0x7f84700c64e0>,\n",
       " 'back': <gensim.models.keyedvectors.Vocab at 0x7f84700c5c50>,\n",
       " 'balance': <gensim.models.keyedvectors.Vocab at 0x7f8454a09ba8>,\n",
       " 'balanced': <gensim.models.keyedvectors.Vocab at 0x7f84700c2828>,\n",
       " 'banana': <gensim.models.keyedvectors.Vocab at 0x7f84700c6470>,\n",
       " 'bar': <gensim.models.keyedvectors.Vocab at 0x7f84700c2400>,\n",
       " 'batch': <gensim.models.keyedvectors.Vocab at 0x7f84700c2c18>,\n",
       " 'bath': <gensim.models.keyedvectors.Vocab at 0x7f84700c1d30>,\n",
       " 'battery': <gensim.models.keyedvectors.Vocab at 0x7f84700c0b38>,\n",
       " 'bcaryophyllene': <gensim.models.keyedvectors.Vocab at 0x7f8454a10a20>,\n",
       " 'beautiful': <gensim.models.keyedvectors.Vocab at 0x7f84700c5828>,\n",
       " 'begin': <gensim.models.keyedvectors.Vocab at 0x7f84700c28d0>,\n",
       " 'belt': <gensim.models.keyedvectors.Vocab at 0x7f8454a10400>,\n",
       " 'benefit': <gensim.models.keyedvectors.Vocab at 0x7f84700c39e8>,\n",
       " 'berry': <gensim.models.keyedvectors.Vocab at 0x7f84700c5c88>,\n",
       " 'best': <gensim.models.keyedvectors.Vocab at 0x7f8454a09358>,\n",
       " 'better': <gensim.models.keyedvectors.Vocab at 0x7f84700c2ac8>,\n",
       " 'bite': <gensim.models.keyedvectors.Vocab at 0x7f84700c6198>,\n",
       " 'black': <gensim.models.keyedvectors.Vocab at 0x7f84700c3358>,\n",
       " 'blend': <gensim.models.keyedvectors.Vocab at 0x7f84700c6da0>,\n",
       " 'bloom': <gensim.models.keyedvectors.Vocab at 0x7f84700c3400>,\n",
       " 'blue': <gensim.models.keyedvectors.Vocab at 0x7f84700c8908>,\n",
       " 'blueberry': <gensim.models.keyedvectors.Vocab at 0x7f84700c3978>,\n",
       " 'body': <gensim.models.keyedvectors.Vocab at 0x7f84700c0c88>,\n",
       " 'body.': <gensim.models.keyedvectors.Vocab at 0x7f84700c55f8>,\n",
       " 'bomb': <gensim.models.keyedvectors.Vocab at 0x7f84700c60b8>,\n",
       " 'boost': <gensim.models.keyedvectors.Vocab at 0x7f8454a09a90>,\n",
       " 'bottle': <gensim.models.keyedvectors.Vocab at 0x7f84700c6a20>,\n",
       " 'brand': <gensim.models.keyedvectors.Vocab at 0x7f84700c36a0>,\n",
       " 'bred': <gensim.models.keyedvectors.Vocab at 0x7f84700c8da0>,\n",
       " 'bright': <gensim.models.keyedvectors.Vocab at 0x7f84700c5978>,\n",
       " 'bring': <gensim.models.keyedvectors.Vocab at 0x7f84700c0320>,\n",
       " 'brings': <gensim.models.keyedvectors.Vocab at 0x7f84700c83c8>,\n",
       " 'bubba': <gensim.models.keyedvectors.Vocab at 0x7f84700c25c0>,\n",
       " 'bud': <gensim.models.keyedvectors.Vocab at 0x7f8454a109e8>,\n",
       " 'butter': <gensim.models.keyedvectors.Vocab at 0x7f84700c1668>,\n",
       " 'buzz': <gensim.models.keyedvectors.Vocab at 0x7f84700c3fd0>,\n",
       " 'cake': <gensim.models.keyedvectors.Vocab at 0x7f8454a10588>,\n",
       " 'california': <gensim.models.keyedvectors.Vocab at 0x7f84700c0518>,\n",
       " 'calm': <gensim.models.keyedvectors.Vocab at 0x7f8454a09588>,\n",
       " 'calming': <gensim.models.keyedvectors.Vocab at 0x7f84700c3d68>,\n",
       " 'candy': <gensim.models.keyedvectors.Vocab at 0x7f84700c3940>,\n",
       " 'cannabinoid': <gensim.models.keyedvectors.Vocab at 0x7f8454a09b00>,\n",
       " 'cannabinoids': <gensim.models.keyedvectors.Vocab at 0x7f84700c5668>,\n",
       " 'cannabinoids.': <gensim.models.keyedvectors.Vocab at 0x7f84700c6be0>,\n",
       " 'cannabis': <gensim.models.keyedvectors.Vocab at 0x7f84700c88d0>,\n",
       " 'cannabis.': <gensim.models.keyedvectors.Vocab at 0x7f84700c6c50>,\n",
       " 'cannabisderived': <gensim.models.keyedvectors.Vocab at 0x7f84700c8208>,\n",
       " 'capsule': <gensim.models.keyedvectors.Vocab at 0x7f84700c1b70>,\n",
       " 'care': <gensim.models.keyedvectors.Vocab at 0x7f8454a10cf8>,\n",
       " 'cartridge': <gensim.models.keyedvectors.Vocab at 0x7f84700c0358>,\n",
       " 'cartridges.': <gensim.models.keyedvectors.Vocab at 0x7f84700c3550>,\n",
       " 'cbd': <gensim.models.keyedvectors.Vocab at 0x7f8454a0b2e8>,\n",
       " 'cbd.': <gensim.models.keyedvectors.Vocab at 0x7f84700c62b0>,\n",
       " 'cbg': <gensim.models.keyedvectors.Vocab at 0x7f84700c2278>,\n",
       " 'cbn': <gensim.models.keyedvectors.Vocab at 0x7f84700c5e48>,\n",
       " 'ceramic': <gensim.models.keyedvectors.Vocab at 0x7f84700c6b00>,\n",
       " 'cerebral': <gensim.models.keyedvectors.Vocab at 0x7f84700c8828>,\n",
       " 'cherry': <gensim.models.keyedvectors.Vocab at 0x7f84700c3c88>,\n",
       " 'chew': <gensim.models.keyedvectors.Vocab at 0x7f84700c82e8>,\n",
       " 'chocolate': <gensim.models.keyedvectors.Vocab at 0x7f84700c1be0>,\n",
       " 'choice': <gensim.models.keyedvectors.Vocab at 0x7f84700c29b0>,\n",
       " 'chronic': <gensim.models.keyedvectors.Vocab at 0x7f84700c8710>,\n",
       " 'citrus': <gensim.models.keyedvectors.Vocab at 0x7f84700c5898>,\n",
       " 'classic': <gensim.models.keyedvectors.Vocab at 0x7f84700c0d68>,\n",
       " 'clean': <gensim.models.keyedvectors.Vocab at 0x7f84700c63c8>,\n",
       " 'clear': <gensim.models.keyedvectors.Vocab at 0x7f84700c3438>,\n",
       " 'co2': <gensim.models.keyedvectors.Vocab at 0x7f8454a0b128>,\n",
       " 'coast': <gensim.models.keyedvectors.Vocab at 0x7f84700c1e48>,\n",
       " 'cocoa': <gensim.models.keyedvectors.Vocab at 0x7f84700c1e80>,\n",
       " 'coconut': <gensim.models.keyedvectors.Vocab at 0x7f84700c55c0>,\n",
       " 'coil': <gensim.models.keyedvectors.Vocab at 0x7f84700c2ba8>,\n",
       " 'color': <gensim.models.keyedvectors.Vocab at 0x7f84700c3e10>,\n",
       " 'combination': <gensim.models.keyedvectors.Vocab at 0x7f84700c0e80>,\n",
       " 'combine': <gensim.models.keyedvectors.Vocab at 0x7f8454a10b00>,\n",
       " 'come': <gensim.models.keyedvectors.Vocab at 0x7f84700c0e48>,\n",
       " 'concentrate': <gensim.models.keyedvectors.Vocab at 0x7f8454a0bb38>,\n",
       " 'concentration': <gensim.models.keyedvectors.Vocab at 0x7f84700c38d0>,\n",
       " 'condition': <gensim.models.keyedvectors.Vocab at 0x7f84700c02e8>,\n",
       " 'consistent': <gensim.models.keyedvectors.Vocab at 0x7f84700c1208>,\n",
       " 'consumer': <gensim.models.keyedvectors.Vocab at 0x7f84700c2ef0>,\n",
       " 'contain': <gensim.models.keyedvectors.Vocab at 0x7f84700c8dd8>,\n",
       " 'contains': <gensim.models.keyedvectors.Vocab at 0x7f84700c66a0>,\n",
       " 'content': <gensim.models.keyedvectors.Vocab at 0x7f84700c3dd8>,\n",
       " 'convenient': <gensim.models.keyedvectors.Vocab at 0x7f84700c8240>,\n",
       " 'cookie': <gensim.models.keyedvectors.Vocab at 0x7f84700c5f60>,\n",
       " 'cookies.': <gensim.models.keyedvectors.Vocab at 0x7f84700c6080>,\n",
       " 'cooky': <gensim.models.keyedvectors.Vocab at 0x7f84700c5940>,\n",
       " 'covered': <gensim.models.keyedvectors.Vocab at 0x7f84700c6828>,\n",
       " 'crafted': <gensim.models.keyedvectors.Vocab at 0x7f84700c5320>,\n",
       " 'cream': <gensim.models.keyedvectors.Vocab at 0x7f8454a106a0>,\n",
       " 'creamy': <gensim.models.keyedvectors.Vocab at 0x7f84700c6320>,\n",
       " 'create': <gensim.models.keyedvectors.Vocab at 0x7f8454a10be0>,\n",
       " 'created': <gensim.models.keyedvectors.Vocab at 0x7f84700c8cf8>,\n",
       " 'creative': <gensim.models.keyedvectors.Vocab at 0x7f84700c56d8>,\n",
       " 'creativity': <gensim.models.keyedvectors.Vocab at 0x7f84700c56a0>,\n",
       " 'cross': <gensim.models.keyedvectors.Vocab at 0x7f84700c6860>,\n",
       " 'crossing': <gensim.models.keyedvectors.Vocab at 0x7f84700c0208>,\n",
       " 'crystal': <gensim.models.keyedvectors.Vocab at 0x7f84700c2470>,\n",
       " 'cup': <gensim.models.keyedvectors.Vocab at 0x7f84700c3860>,\n",
       " 'cut': <gensim.models.keyedvectors.Vocab at 0x7f84700c5cf8>,\n",
       " 'dab': <gensim.models.keyedvectors.Vocab at 0x7f84700c8080>,\n",
       " 'daily': <gensim.models.keyedvectors.Vocab at 0x7f84700c3f28>,\n",
       " 'dark': <gensim.models.keyedvectors.Vocab at 0x7f84700c17b8>,\n",
       " 'dart': <gensim.models.keyedvectors.Vocab at 0x7f84700c54a8>,\n",
       " 'day': <gensim.models.keyedvectors.Vocab at 0x7f84700c11d0>,\n",
       " 'day.': <gensim.models.keyedvectors.Vocab at 0x7f84700c6e10>,\n",
       " 'daytime': <gensim.models.keyedvectors.Vocab at 0x7f84700c6ef0>,\n",
       " 'deep': <gensim.models.keyedvectors.Vocab at 0x7f84700c6780>,\n",
       " 'delicious': <gensim.models.keyedvectors.Vocab at 0x7f84700c2908>,\n",
       " 'deliver': <gensim.models.keyedvectors.Vocab at 0x7f84700c5860>,\n",
       " 'delivers': <gensim.models.keyedvectors.Vocab at 0x7f84700c8b38>,\n",
       " 'delivery': <gensim.models.keyedvectors.Vocab at 0x7f84700c6550>,\n",
       " 'dense': <gensim.models.keyedvectors.Vocab at 0x7f84700c32e8>,\n",
       " 'depression': <gensim.models.keyedvectors.Vocab at 0x7f84700c04a8>,\n",
       " 'derived': <gensim.models.keyedvectors.Vocab at 0x7f84700c5160>,\n",
       " 'design': <gensim.models.keyedvectors.Vocab at 0x7f84700c3a90>,\n",
       " 'designed': <gensim.models.keyedvectors.Vocab at 0x7f84700c0588>,\n",
       " 'device': <gensim.models.keyedvectors.Vocab at 0x7f8454a0bac8>,\n",
       " 'diesel': <gensim.models.keyedvectors.Vocab at 0x7f84700c6e80>,\n",
       " 'different': <gensim.models.keyedvectors.Vocab at 0x7f84700c5d30>,\n",
       " 'discreet': <gensim.models.keyedvectors.Vocab at 0x7f84700c5b38>,\n",
       " 'disposable': <gensim.models.keyedvectors.Vocab at 0x7f84700c3eb8>,\n",
       " 'distillate': <gensim.models.keyedvectors.Vocab at 0x7f84700c3470>,\n",
       " 'distillate.': <gensim.models.keyedvectors.Vocab at 0x7f84700c3748>,\n",
       " 'distillation': <gensim.models.keyedvectors.Vocab at 0x7f84700c53c8>,\n",
       " 'distilled': <gensim.models.keyedvectors.Vocab at 0x7f84700c12b0>,\n",
       " 'dominant': <gensim.models.keyedvectors.Vocab at 0x7f84700c10b8>,\n",
       " 'dose': <gensim.models.keyedvectors.Vocab at 0x7f84700c2b00>,\n",
       " 'dosing': <gensim.models.keyedvectors.Vocab at 0x7f84700c5748>,\n",
       " 'dosing.': <gensim.models.keyedvectors.Vocab at 0x7f8454a0bef0>,\n",
       " 'dream': <gensim.models.keyedvectors.Vocab at 0x7f84700c2eb8>,\n",
       " 'drop': <gensim.models.keyedvectors.Vocab at 0x7f84700c5ac8>,\n",
       " 'dry': <gensim.models.keyedvectors.Vocab at 0x7f8454a10780>,\n",
       " 'due': <gensim.models.keyedvectors.Vocab at 0x7f8454a09ef0>,\n",
       " 'earth': <gensim.models.keyedvectors.Vocab at 0x7f84700c6710>,\n",
       " 'earthy': <gensim.models.keyedvectors.Vocab at 0x7f84700c13c8>,\n",
       " 'ease': <gensim.models.keyedvectors.Vocab at 0x7f84700c1a58>,\n",
       " 'easy': <gensim.models.keyedvectors.Vocab at 0x7f8454a10908>,\n",
       " 'edible': <gensim.models.keyedvectors.Vocab at 0x7f84700c07b8>,\n",
       " 'effect': <gensim.models.keyedvectors.Vocab at 0x7f8454a10710>,\n",
       " 'effective': <gensim.models.keyedvectors.Vocab at 0x7f84700c2668>,\n",
       " 'effects.': <gensim.models.keyedvectors.Vocab at 0x7f84700c1278>,\n",
       " 'element': <gensim.models.keyedvectors.Vocab at 0x7f84700c2160>,\n",
       " 'end': <gensim.models.keyedvectors.Vocab at 0x7f8454a107f0>,\n",
       " 'energetic': <gensim.models.keyedvectors.Vocab at 0x7f84700c1588>,\n",
       " 'energy': <gensim.models.keyedvectors.Vocab at 0x7f8454a10a58>,\n",
       " 'enjoy': <gensim.models.keyedvectors.Vocab at 0x7f84700c2f28>,\n",
       " 'ensure': <gensim.models.keyedvectors.Vocab at 0x7f84700c0da0>,\n",
       " 'essential': <gensim.models.keyedvectors.Vocab at 0x7f84700c0080>,\n",
       " 'euphoria': <gensim.models.keyedvectors.Vocab at 0x7f8454a10128>,\n",
       " 'euphoria.': <gensim.models.keyedvectors.Vocab at 0x7f84700c0550>,\n",
       " 'euphoric': <gensim.models.keyedvectors.Vocab at 0x7f84700c3588>,\n",
       " 'even': <gensim.models.keyedvectors.Vocab at 0x7f84700c2748>,\n",
       " 'evening': <gensim.models.keyedvectors.Vocab at 0x7f84700c2780>,\n",
       " 'every': <gensim.models.keyedvectors.Vocab at 0x7f84700c6f98>,\n",
       " 'experience': <gensim.models.keyedvectors.Vocab at 0x7f84700c1f60>,\n",
       " 'experience.': <gensim.models.keyedvectors.Vocab at 0x7f84700c1ac8>,\n",
       " 'express': <gensim.models.keyedvectors.Vocab at 0x7f84700c50b8>,\n",
       " 'extract': <gensim.models.keyedvectors.Vocab at 0x7f84700c1dd8>,\n",
       " 'extracted': <gensim.models.keyedvectors.Vocab at 0x7f84700c3a58>,\n",
       " 'extraction': <gensim.models.keyedvectors.Vocab at 0x7f84700c1cc0>,\n",
       " 'eye': <gensim.models.keyedvectors.Vocab at 0x7f84700c5710>,\n",
       " 'factory': <gensim.models.keyedvectors.Vocab at 0x7f84700c16a0>,\n",
       " 'farm': <gensim.models.keyedvectors.Vocab at 0x7f84700c25f8>,\n",
       " 'fatigue': <gensim.models.keyedvectors.Vocab at 0x7f84700c8390>,\n",
       " 'favorite': <gensim.models.keyedvectors.Vocab at 0x7f84700c5400>,\n",
       " 'feature': <gensim.models.keyedvectors.Vocab at 0x7f84700c5be0>,\n",
       " 'feel': <gensim.models.keyedvectors.Vocab at 0x7f84700c1a90>,\n",
       " 'feeling': <gensim.models.keyedvectors.Vocab at 0x7f84700c0ba8>,\n",
       " 'filled': <gensim.models.keyedvectors.Vocab at 0x7f84700c35c0>,\n",
       " 'filler': <gensim.models.keyedvectors.Vocab at 0x7f84700c8550>,\n",
       " 'find': <gensim.models.keyedvectors.Vocab at 0x7f84700c8518>,\n",
       " 'fire': <gensim.models.keyedvectors.Vocab at 0x7f84700c5b00>,\n",
       " 'first': <gensim.models.keyedvectors.Vocab at 0x7f84700c6b38>,\n",
       " 'flavor': <gensim.models.keyedvectors.Vocab at 0x7f84700c58d0>,\n",
       " 'flavor.': <gensim.models.keyedvectors.Vocab at 0x7f84700c0d30>,\n",
       " 'flavored': <gensim.models.keyedvectors.Vocab at 0x7f84700c2048>,\n",
       " 'flavorful': <gensim.models.keyedvectors.Vocab at 0x7f84700c5e80>,\n",
       " 'flavors.': <gensim.models.keyedvectors.Vocab at 0x7f84700c3ba8>,\n",
       " 'flavour': <gensim.models.keyedvectors.Vocab at 0x7f84700c0860>,\n",
       " 'floral': <gensim.models.keyedvectors.Vocab at 0x7f84700c6748>,\n",
       " 'flower': <gensim.models.keyedvectors.Vocab at 0x7f84700c3048>,\n",
       " 'flower.': <gensim.models.keyedvectors.Vocab at 0x7f84700c6e48>,\n",
       " 'focus': <gensim.models.keyedvectors.Vocab at 0x7f84700c37b8>,\n",
       " 'focused': <gensim.models.keyedvectors.Vocab at 0x7f84700c1748>,\n",
       " 'form': <gensim.models.keyedvectors.Vocab at 0x7f84700c5278>,\n",
       " 'formula': <gensim.models.keyedvectors.Vocab at 0x7f84700c2630>,\n",
       " 'formulated': <gensim.models.keyedvectors.Vocab at 0x7f84700c6128>,\n",
       " 'found': <gensim.models.keyedvectors.Vocab at 0x7f84700c1b00>,\n",
       " 'free': <gensim.models.keyedvectors.Vocab at 0x7f84700c3780>,\n",
       " 'fresh': <gensim.models.keyedvectors.Vocab at 0x7f84700c5240>,\n",
       " 'fruit': <gensim.models.keyedvectors.Vocab at 0x7f8454a10cc0>,\n",
       " 'fruity': <gensim.models.keyedvectors.Vocab at 0x7f84700c61d0>,\n",
       " 'full': <gensim.models.keyedvectors.Vocab at 0x7f84700c2710>,\n",
       " 'fullbody': <gensim.models.keyedvectors.Vocab at 0x7f84700c1240>,\n",
       " 'fun': <gensim.models.keyedvectors.Vocab at 0x7f84700c2198>,\n",
       " 'garden': <gensim.models.keyedvectors.Vocab at 0x7f84700c22b0>,\n",
       " 'gelato': <gensim.models.keyedvectors.Vocab at 0x7f84700c0048>,\n",
       " 'genetic': <gensim.models.keyedvectors.Vocab at 0x7f8454a09eb8>,\n",
       " 'genetics': <gensim.models.keyedvectors.Vocab at 0x7f84700c3710>,\n",
       " 'get': <gensim.models.keyedvectors.Vocab at 0x7f84700c3c50>,\n",
       " 'girl': <gensim.models.keyedvectors.Vocab at 0x7f84700c81d0>,\n",
       " 'give': <gensim.models.keyedvectors.Vocab at 0x7f84700c1320>,\n",
       " 'glass': <gensim.models.keyedvectors.Vocab at 0x7f84700c6f60>,\n",
       " 'glue': <gensim.models.keyedvectors.Vocab at 0x7f84700c08d0>,\n",
       " 'go': <gensim.models.keyedvectors.Vocab at 0x7f84700c30b8>,\n",
       " 'gold': <gensim.models.keyedvectors.Vocab at 0x7f84700c0668>,\n",
       " 'golden': <gensim.models.keyedvectors.Vocab at 0x7f84700c59e8>,\n",
       " 'good': <gensim.models.keyedvectors.Vocab at 0x7f84700c2e48>,\n",
       " 'gorilla': <gensim.models.keyedvectors.Vocab at 0x7f84700c2358>,\n",
       " 'grade': <gensim.models.keyedvectors.Vocab at 0x7f84700c2cf8>,\n",
       " 'gram': <gensim.models.keyedvectors.Vocab at 0x7f84700c0438>,\n",
       " 'grape': <gensim.models.keyedvectors.Vocab at 0x7f84700c87f0>,\n",
       " 'great': <gensim.models.keyedvectors.Vocab at 0x7f84700c2d68>,\n",
       " 'green': <gensim.models.keyedvectors.Vocab at 0x7f84700c29e8>,\n",
       " 'grown': <gensim.models.keyedvectors.Vocab at 0x7f84700c6ba8>,\n",
       " 'gsc': <gensim.models.keyedvectors.Vocab at 0x7f84700c2390>,\n",
       " 'gummies': <gensim.models.keyedvectors.Vocab at 0x7f8454a10898>,\n",
       " 'gummy': <gensim.models.keyedvectors.Vocab at 0x7f84700c8940>,\n",
       " 'hair': <gensim.models.keyedvectors.Vocab at 0x7f84700c8860>,\n",
       " 'half': <gensim.models.keyedvectors.Vocab at 0x7f8454a109b0>,\n",
       " 'hand': <gensim.models.keyedvectors.Vocab at 0x7f84700c1780>,\n",
       " 'handcrafted': <gensim.models.keyedvectors.Vocab at 0x7f8454a10c88>,\n",
       " 'happy': <gensim.models.keyedvectors.Vocab at 0x7f8454a09e80>,\n",
       " 'hash': <gensim.models.keyedvectors.Vocab at 0x7f84700c15c0>,\n",
       " 'haze': <gensim.models.keyedvectors.Vocab at 0x7f84700c8358>,\n",
       " 'head': <gensim.models.keyedvectors.Vocab at 0x7f8494642048>,\n",
       " 'headache': <gensim.models.keyedvectors.Vocab at 0x7f84700c89b0>,\n",
       " 'heating': <gensim.models.keyedvectors.Vocab at 0x7f84700c8438>,\n",
       " 'heavy': <gensim.models.keyedvectors.Vocab at 0x7f84700c0390>,\n",
       " 'help': <gensim.models.keyedvectors.Vocab at 0x7f84700c54e0>,\n",
       " 'hemp': <gensim.models.keyedvectors.Vocab at 0x7f84700c5630>,\n",
       " 'herb': <gensim.models.keyedvectors.Vocab at 0x7f84700c0cf8>,\n",
       " 'herer': <gensim.models.keyedvectors.Vocab at 0x7f84700c26d8>,\n",
       " 'high': <gensim.models.keyedvectors.Vocab at 0x7f84700c27b8>,\n",
       " 'high.': <gensim.models.keyedvectors.Vocab at 0x7f84700c3128>,\n",
       " 'higher': <gensim.models.keyedvectors.Vocab at 0x7f8454a10a90>,\n",
       " 'highest': <gensim.models.keyedvectors.Vocab at 0x7f8454a10518>,\n",
       " 'highly': <gensim.models.keyedvectors.Vocab at 0x7f84700c3d30>,\n",
       " 'highquality': <gensim.models.keyedvectors.Vocab at 0x7f84700c00b8>,\n",
       " 'hint': <gensim.models.keyedvectors.Vocab at 0x7f8454a09b70>,\n",
       " 'hit': <gensim.models.keyedvectors.Vocab at 0x7f84700c5eb8>,\n",
       " 'hitter': <gensim.models.keyedvectors.Vocab at 0x7f84700c0828>,\n",
       " 'honey': <gensim.models.keyedvectors.Vocab at 0x7f84700c1400>,\n",
       " 'hour': <gensim.models.keyedvectors.Vocab at 0x7f84700c05f8>,\n",
       " 'hybrid': <gensim.models.keyedvectors.Vocab at 0x7f84700c20b8>,\n",
       " 'hybrid.': <gensim.models.keyedvectors.Vocab at 0x7f84700c12e8>,\n",
       " 'ideal': <gensim.models.keyedvectors.Vocab at 0x7f84700c0278>,\n",
       " 'includes': <gensim.models.keyedvectors.Vocab at 0x7f84700c50f0>,\n",
       " 'including': <gensim.models.keyedvectors.Vocab at 0x7f8454a0b780>,\n",
       " 'indica': <gensim.models.keyedvectors.Vocab at 0x7f84700c8ba8>,\n",
       " 'indicadominant': <gensim.models.keyedvectors.Vocab at 0x7f84700c6278>,\n",
       " 'indoor': <gensim.models.keyedvectors.Vocab at 0x7f8454a10dd8>,\n",
       " 'induces': <gensim.models.keyedvectors.Vocab at 0x7f8454a10748>,\n",
       " 'inflammation': <gensim.models.keyedvectors.Vocab at 0x7f8454a10630>,\n",
       " 'infused': <gensim.models.keyedvectors.Vocab at 0x7f84700c6208>,\n",
       " 'ingredient': <gensim.models.keyedvectors.Vocab at 0x7f84700c0cc0>,\n",
       " 'insomnia': <gensim.models.keyedvectors.Vocab at 0x7f84700c65f8>,\n",
       " 'jack': <gensim.models.keyedvectors.Vocab at 0x7f84700c1ba8>,\n",
       " 'joint': <gensim.models.keyedvectors.Vocab at 0x7f8454a10f98>,\n",
       " 'keep': <gensim.models.keyedvectors.Vocab at 0x7f84700c35f8>,\n",
       " 'kief': <gensim.models.keyedvectors.Vocab at 0x7f8454a0b390>,\n",
       " 'king': <gensim.models.keyedvectors.Vocab at 0x7f84700c2438>,\n",
       " 'known': <gensim.models.keyedvectors.Vocab at 0x7f8454a0b908>,\n",
       " 'kush': <gensim.models.keyedvectors.Vocab at 0x7f84700c2c50>,\n",
       " 'lab': <gensim.models.keyedvectors.Vocab at 0x7f84700c5588>,\n",
       " 'labtested': <gensim.models.keyedvectors.Vocab at 0x7f8454a102e8>,\n",
       " 'lack': <gensim.models.keyedvectors.Vocab at 0x7f84700c8320>,\n",
       " 'large': <gensim.models.keyedvectors.Vocab at 0x7f84700c2be0>,\n",
       " 'last': <gensim.models.keyedvectors.Vocab at 0x7f8454a09c88>,\n",
       " 'lavender': <gensim.models.keyedvectors.Vocab at 0x7f84700c2c88>,\n",
       " 'leaf': <gensim.models.keyedvectors.Vocab at 0x7f84700c8d30>,\n",
       " 'leave': <gensim.models.keyedvectors.Vocab at 0x7f84700c8048>,\n",
       " 'leaving': <gensim.models.keyedvectors.Vocab at 0x7f84700c8a58>,\n",
       " 'legendary': <gensim.models.keyedvectors.Vocab at 0x7f8454a09780>,\n",
       " 'lemon': <gensim.models.keyedvectors.Vocab at 0x7f84700c19e8>,\n",
       " 'level': <gensim.models.keyedvectors.Vocab at 0x7f84700c69e8>,\n",
       " 'light': <gensim.models.keyedvectors.Vocab at 0x7f84700c0978>,\n",
       " 'like': <gensim.models.keyedvectors.Vocab at 0x7f84700c5f28>,\n",
       " 'lime': <gensim.models.keyedvectors.Vocab at 0x7f84700c5470>,\n",
       " 'limonene': <gensim.models.keyedvectors.Vocab at 0x7f84700c6940>,\n",
       " 'linalool': <gensim.models.keyedvectors.Vocab at 0x7f84700c22e8>,\n",
       " 'line': <gensim.models.keyedvectors.Vocab at 0x7f84700c8588>,\n",
       " 'little': <gensim.models.keyedvectors.Vocab at 0x7f84700c6f28>,\n",
       " 'live': <gensim.models.keyedvectors.Vocab at 0x7f84700c6a58>,\n",
       " 'long': <gensim.models.keyedvectors.Vocab at 0x7f84700c3c18>,\n",
       " 'longlasting': <gensim.models.keyedvectors.Vocab at 0x7f8454a10d30>,\n",
       " 'look': <gensim.models.keyedvectors.Vocab at 0x7f84700c0908>,\n",
       " 'looking': <gensim.models.keyedvectors.Vocab at 0x7f84700c8780>,\n",
       " 'los': <gensim.models.keyedvectors.Vocab at 0x7f84700c2b70>,\n",
       " 'love': <gensim.models.keyedvectors.Vocab at 0x7f84700c86d8>,\n",
       " 'low': <gensim.models.keyedvectors.Vocab at 0x7f84700c8898>,\n",
       " 'made': <gensim.models.keyedvectors.Vocab at 0x7f84700c0dd8>,\n",
       " 'make': <gensim.models.keyedvectors.Vocab at 0x7f8454a0bdd8>,\n",
       " 'making': <gensim.models.keyedvectors.Vocab at 0x7f84700c09e8>,\n",
       " 'mango': <gensim.models.keyedvectors.Vocab at 0x7f84700c2da0>,\n",
       " 'many': <gensim.models.keyedvectors.Vocab at 0x7f8454a09080>,\n",
       " 'marijuana': <gensim.models.keyedvectors.Vocab at 0x7f84700c0400>,\n",
       " 'market': <gensim.models.keyedvectors.Vocab at 0x7f84700c05c0>,\n",
       " 'market.': <gensim.models.keyedvectors.Vocab at 0x7f84700c2128>,\n",
       " 'may': <gensim.models.keyedvectors.Vocab at 0x7f84700c0e10>,\n",
       " 'mct': <gensim.models.keyedvectors.Vocab at 0x7f84700c6978>,\n",
       " 'mcts': <gensim.models.keyedvectors.Vocab at 0x7f84700c84e0>,\n",
       " 'medical': <gensim.models.keyedvectors.Vocab at 0x7f84700c0710>,\n",
       " 'medicate': <gensim.models.keyedvectors.Vocab at 0x7f84700c65c0>,\n",
       " 'medicinal': <gensim.models.keyedvectors.Vocab at 0x7f84700c5438>,\n",
       " 'medicine': <gensim.models.keyedvectors.Vocab at 0x7f84700c10f0>,\n",
       " 'meet': <gensim.models.keyedvectors.Vocab at 0x7f84700c5390>,\n",
       " 'melt': <gensim.models.keyedvectors.Vocab at 0x7f84700c1898>,\n",
       " 'mental': <gensim.models.keyedvectors.Vocab at 0x7f84700c1550>,\n",
       " 'method': <gensim.models.keyedvectors.Vocab at 0x7f84700c1128>,\n",
       " 'mg': <gensim.models.keyedvectors.Vocab at 0x7f84700c1518>,\n",
       " 'mild': <gensim.models.keyedvectors.Vocab at 0x7f84700c37f0>,\n",
       " 'milk': <gensim.models.keyedvectors.Vocab at 0x7f84700c1f28>,\n",
       " 'mind': <gensim.models.keyedvectors.Vocab at 0x7f8454a09ac8>,\n",
       " 'mint': <gensim.models.keyedvectors.Vocab at 0x7f84700c5a58>,\n",
       " 'mix': <gensim.models.keyedvectors.Vocab at 0x7f84700c6a90>,\n",
       " 'mixed': <gensim.models.keyedvectors.Vocab at 0x7f84700c0c18>,\n",
       " 'ml': <gensim.models.keyedvectors.Vocab at 0x7f84700c5b70>,\n",
       " 'mood': <gensim.models.keyedvectors.Vocab at 0x7f84700c14a8>,\n",
       " 'much': <gensim.models.keyedvectors.Vocab at 0x7f84700c0fd0>,\n",
       " 'muscle': <gensim.models.keyedvectors.Vocab at 0x7f84700c68d0>,\n",
       " 'name': <gensim.models.keyedvectors.Vocab at 0x7f84700c2240>,\n",
       " 'natural': <gensim.models.keyedvectors.Vocab at 0x7f84700c6d30>,\n",
       " 'nausea': <gensim.models.keyedvectors.Vocab at 0x7f84700c1630>,\n",
       " 'need': <gensim.models.keyedvectors.Vocab at 0x7f8454a09048>,\n",
       " 'never': <gensim.models.keyedvectors.Vocab at 0x7f84700c2208>,\n",
       " 'new': <gensim.models.keyedvectors.Vocab at 0x7f84700c6630>,\n",
       " 'next': <gensim.models.keyedvectors.Vocab at 0x7f84700c5908>,\n",
       " 'night': <gensim.models.keyedvectors.Vocab at 0x7f8454a0bd68>,\n",
       " 'northern': <gensim.models.keyedvectors.Vocab at 0x7f84700c2d30>,\n",
       " 'note': <gensim.models.keyedvectors.Vocab at 0x7f84700c8630>,\n",
       " 'nugs': <gensim.models.keyedvectors.Vocab at 0x7f8454a09c18>,\n",
       " 'offer': <gensim.models.keyedvectors.Vocab at 0x7f84700c8a20>,\n",
       " 'often': <gensim.models.keyedvectors.Vocab at 0x7f84700c32b0>,\n",
       " 'og': <gensim.models.keyedvectors.Vocab at 0x7f84700c6d68>,\n",
       " 'oil': <gensim.models.keyedvectors.Vocab at 0x7f84700c3390>,\n",
       " 'oil.': <gensim.models.keyedvectors.Vocab at 0x7f84700c8c88>,\n",
       " 'one': <gensim.models.keyedvectors.Vocab at 0x7f84700c19b0>,\n",
       " 'orange': <gensim.models.keyedvectors.Vocab at 0x7f84700c2a20>,\n",
       " 'organic': <gensim.models.keyedvectors.Vocab at 0x7f84700c52b0>,\n",
       " 'original': <gensim.models.keyedvectors.Vocab at 0x7f84700c3f98>,\n",
       " 'pack': <gensim.models.keyedvectors.Vocab at 0x7f84700c6358>,\n",
       " 'package': <gensim.models.keyedvectors.Vocab at 0x7f84700c00f0>,\n",
       " 'pain': <gensim.models.keyedvectors.Vocab at 0x7f84700c1828>,\n",
       " 'pain.': <gensim.models.keyedvectors.Vocab at 0x7f84700c8be0>,\n",
       " 'parent': <gensim.models.keyedvectors.Vocab at 0x7f84700c6668>,\n",
       " 'patch': <gensim.models.keyedvectors.Vocab at 0x7f84700c5780>,\n",
       " 'patient': <gensim.models.keyedvectors.Vocab at 0x7f84700c6eb8>,\n",
       " 'pen': <gensim.models.keyedvectors.Vocab at 0x7f84700c2f60>,\n",
       " 'people': <gensim.models.keyedvectors.Vocab at 0x7f84700c36d8>,\n",
       " 'per': <gensim.models.keyedvectors.Vocab at 0x7f84700c0a58>,\n",
       " 'perfect': <gensim.models.keyedvectors.Vocab at 0x7f84700c8978>,\n",
       " 'pgpegvg': <gensim.models.keyedvectors.Vocab at 0x7f8454a100f0>,\n",
       " 'phenotype': <gensim.models.keyedvectors.Vocab at 0x7f84700c1978>,\n",
       " 'physical': <gensim.models.keyedvectors.Vocab at 0x7f84700c1f98>,\n",
       " 'pie': <gensim.models.keyedvectors.Vocab at 0x7f84700c1198>,\n",
       " 'piece': <gensim.models.keyedvectors.Vocab at 0x7f84700c34e0>,\n",
       " 'pine': <gensim.models.keyedvectors.Vocab at 0x7f84700c3cc0>,\n",
       " 'pineapple': <gensim.models.keyedvectors.Vocab at 0x7f8454a0bfd0>,\n",
       " 'pink': <gensim.models.keyedvectors.Vocab at 0x7f84700c18d0>,\n",
       " 'pipe': <gensim.models.keyedvectors.Vocab at 0x7f84700c2e80>,\n",
       " 'place': <gensim.models.keyedvectors.Vocab at 0x7f84700c5208>,\n",
       " 'plant': <gensim.models.keyedvectors.Vocab at 0x7f8454a0b518>,\n",
       " 'please': <gensim.models.keyedvectors.Vocab at 0x7f8454a10470>,\n",
       " 'pod': <gensim.models.keyedvectors.Vocab at 0x7f84700c5a90>,\n",
       " 'popular': <gensim.models.keyedvectors.Vocab at 0x7f84700c5048>,\n",
       " 'potency': <gensim.models.keyedvectors.Vocab at 0x7f84700c0748>,\n",
       " 'potent': <gensim.models.keyedvectors.Vocab at 0x7f84700c82b0>,\n",
       " 'power': <gensim.models.keyedvectors.Vocab at 0x7f8454a0b8d0>,\n",
       " 'powerful': <gensim.models.keyedvectors.Vocab at 0x7f84700c5a20>,\n",
       " 'premium': <gensim.models.keyedvectors.Vocab at 0x7f84700c17f0>,\n",
       " 'preroll': <gensim.models.keyedvectors.Vocab at 0x7f84700c2940>,\n",
       " 'price': <gensim.models.keyedvectors.Vocab at 0x7f84700c1908>,\n",
       " 'process': <gensim.models.keyedvectors.Vocab at 0x7f8454a0bd30>,\n",
       " 'produce': <gensim.models.keyedvectors.Vocab at 0x7f84700c1080>,\n",
       " 'produced': <gensim.models.keyedvectors.Vocab at 0x7f84700c24a8>,\n",
       " 'product': <gensim.models.keyedvectors.Vocab at 0x7f8454a09b38>,\n",
       " 'profile': <gensim.models.keyedvectors.Vocab at 0x7f84700c1358>,\n",
       " 'proprietary': <gensim.models.keyedvectors.Vocab at 0x7f84700c6160>,\n",
       " 'provide': <gensim.models.keyedvectors.Vocab at 0x7f84700c8a90>,\n",
       " 'provides': <gensim.models.keyedvectors.Vocab at 0x7f8454a09e10>,\n",
       " 'puff': <gensim.models.keyedvectors.Vocab at 0x7f84700c2080>,\n",
       " 'punch': <gensim.models.keyedvectors.Vocab at 0x7f84700c1d68>,\n",
       " 'pungent': <gensim.models.keyedvectors.Vocab at 0x7f84700c87b8>,\n",
       " 'pure': <gensim.models.keyedvectors.Vocab at 0x7f84700c06d8>,\n",
       " 'purity': <gensim.models.keyedvectors.Vocab at 0x7f84700c8198>,\n",
       " 'purple': <gensim.models.keyedvectors.Vocab at 0x7f8454a10828>,\n",
       " 'quality': <gensim.models.keyedvectors.Vocab at 0x7f84700c2550>,\n",
       " 'raspberry': <gensim.models.keyedvectors.Vocab at 0x7f84700c5d68>,\n",
       " 'ratio': <gensim.models.keyedvectors.Vocab at 0x7f84700c03c8>,\n",
       " 'raw': <gensim.models.keyedvectors.Vocab at 0x7f84700c09b0>,\n",
       " 'ready': <gensim.models.keyedvectors.Vocab at 0x7f84700c0240>,\n",
       " 'recommended': <gensim.models.keyedvectors.Vocab at 0x7f84700c0898>,\n",
       " 'refined': <gensim.models.keyedvectors.Vocab at 0x7f8454a10668>,\n",
       " 'refreshing': <gensim.models.keyedvectors.Vocab at 0x7f8454a10e80>,\n",
       " 'relax': <gensim.models.keyedvectors.Vocab at 0x7f84700c3e80>,\n",
       " 'relaxation': <gensim.models.keyedvectors.Vocab at 0x7f84700c57b8>,\n",
       " 'relaxation.': <gensim.models.keyedvectors.Vocab at 0x7f84700c1160>,\n",
       " 'relaxed': <gensim.models.keyedvectors.Vocab at 0x7f8454a10080>,\n",
       " 'relaxing': <gensim.models.keyedvectors.Vocab at 0x7f84700c80b8>,\n",
       " 'relief': <gensim.models.keyedvectors.Vocab at 0x7f84700c6898>,\n",
       " 'relief.': <gensim.models.keyedvectors.Vocab at 0x7f84700c2f98>,\n",
       " 'resin': <gensim.models.keyedvectors.Vocab at 0x7f8454a104e0>,\n",
       " 'result': <gensim.models.keyedvectors.Vocab at 0x7f8454a0bda0>,\n",
       " 'rich': <gensim.models.keyedvectors.Vocab at 0x7f84700c1940>,\n",
       " 'right': <gensim.models.keyedvectors.Vocab at 0x7f84700c3278>,\n",
       " 'rolled': <gensim.models.keyedvectors.Vocab at 0x7f84700c5550>,\n",
       " 'sativa': <gensim.models.keyedvectors.Vocab at 0x7f84700c1e10>,\n",
       " 'sativadominant': <gensim.models.keyedvectors.Vocab at 0x7f84700c1390>,\n",
       " 'sauce': <gensim.models.keyedvectors.Vocab at 0x7f84700c1710>,\n",
       " 'scent': <gensim.models.keyedvectors.Vocab at 0x7f84700c86a0>,\n",
       " 'scout': <gensim.models.keyedvectors.Vocab at 0x7f84700c0f60>,\n",
       " 'sedative': <gensim.models.keyedvectors.Vocab at 0x7f84700c3cf8>,\n",
       " 'see': <gensim.models.keyedvectors.Vocab at 0x7f84700c52e8>,\n",
       " 'seed': <gensim.models.keyedvectors.Vocab at 0x7f84700c04e0>,\n",
       " 'select': <gensim.models.keyedvectors.Vocab at 0x7f8454a099b0>,\n",
       " 'sense': <gensim.models.keyedvectors.Vocab at 0x7f84700c6dd8>,\n",
       " 'serving': <gensim.models.keyedvectors.Vocab at 0x7f84700c3208>,\n",
       " 'shatter': <gensim.models.keyedvectors.Vocab at 0x7f84700c2e10>,\n",
       " 'shelf': <gensim.models.keyedvectors.Vocab at 0x7f84700c2a58>,\n",
       " 'sherbet': <gensim.models.keyedvectors.Vocab at 0x7f84700c2cc0>,\n",
       " 'side': <gensim.models.keyedvectors.Vocab at 0x7f84700c3240>,\n",
       " 'signature': <gensim.models.keyedvectors.Vocab at 0x7f8454a0b2b0>,\n",
       " 'silver': <gensim.models.keyedvectors.Vocab at 0x7f84700c3908>,\n",
       " 'similar': <gensim.models.keyedvectors.Vocab at 0x7f8454a09860>,\n",
       " 'since': <gensim.models.keyedvectors.Vocab at 0x7f84700c15f8>,\n",
       " 'single': <gensim.models.keyedvectors.Vocab at 0x7f84700c8d68>,\n",
       " 'size': <gensim.models.keyedvectors.Vocab at 0x7f84700c0780>,\n",
       " 'skin': <gensim.models.keyedvectors.Vocab at 0x7f8454a10358>,\n",
       " 'skunk': <gensim.models.keyedvectors.Vocab at 0x7f84700c5ef0>,\n",
       " 'skywalker': <gensim.models.keyedvectors.Vocab at 0x7f84700c2320>,\n",
       " 'sleep': <gensim.models.keyedvectors.Vocab at 0x7f84700c8668>,\n",
       " 'small': <gensim.models.keyedvectors.Vocab at 0x7f84700c3080>,\n",
       " 'smashed': <gensim.models.keyedvectors.Vocab at 0x7f84700c89e8>,\n",
       " 'smell': <gensim.models.keyedvectors.Vocab at 0x7f8454a10ac8>,\n",
       " 'smoke': <gensim.models.keyedvectors.Vocab at 0x7f84700c64a8>,\n",
       " 'smooth': <gensim.models.keyedvectors.Vocab at 0x7f8454a09d30>,\n",
       " 'social': <gensim.models.keyedvectors.Vocab at 0x7f84700c5dd8>,\n",
       " 'solvent': <gensim.models.keyedvectors.Vocab at 0x7f84700c57f0>,\n",
       " 'solventfree': <gensim.models.keyedvectors.Vocab at 0x7f84700c1eb8>,\n",
       " 'sour': <gensim.models.keyedvectors.Vocab at 0x7f84700c59b0>,\n",
       " 'source': <gensim.models.keyedvectors.Vocab at 0x7f8454a10fd0>,\n",
       " 'specific': <gensim.models.keyedvectors.Vocab at 0x7f84700c23c8>,\n",
       " 'spectrum': <gensim.models.keyedvectors.Vocab at 0x7f84700c5da0>,\n",
       " 'spicy': <gensim.models.keyedvectors.Vocab at 0x7f84700c8400>,\n",
       " 'standard': <gensim.models.keyedvectors.Vocab at 0x7f8454a0bb70>,\n",
       " 'start': <gensim.models.keyedvectors.Vocab at 0x7f84700c3160>,\n",
       " 'state': <gensim.models.keyedvectors.Vocab at 0x7f84700c6cc0>,\n",
       " 'sticky': <gensim.models.keyedvectors.Vocab at 0x7f8454a0bf60>,\n",
       " 'stiiizy': <gensim.models.keyedvectors.Vocab at 0x7f84700c8b70>,\n",
       " 'stiiizys': <gensim.models.keyedvectors.Vocab at 0x7f84700c8128>,\n",
       " 'strain': <gensim.models.keyedvectors.Vocab at 0x7f84700c85c0>,\n",
       " 'strain.': <gensim.models.keyedvectors.Vocab at 0x7f84700c60f0>,\n",
       " 'strains.': <gensim.models.keyedvectors.Vocab at 0x7f84700c62e8>,\n",
       " 'strawberry': <gensim.models.keyedvectors.Vocab at 0x7f84700c21d0>,\n",
       " 'stress': <gensim.models.keyedvectors.Vocab at 0x7f84700c01d0>,\n",
       " 'stress.': <gensim.models.keyedvectors.Vocab at 0x7f84700c6ac8>,\n",
       " 'strong': <gensim.models.keyedvectors.Vocab at 0x7f8454a0bc50>,\n",
       " 'sugar': <gensim.models.keyedvectors.Vocab at 0x7f84700c5080>,\n",
       " 'sunset': <gensim.models.keyedvectors.Vocab at 0x7f84700c8278>,\n",
       " 'super': <gensim.models.keyedvectors.Vocab at 0x7f84700c2a90>,\n",
       " 'sure': <gensim.models.keyedvectors.Vocab at 0x7f8454a10978>,\n",
       " 'sweet': <gensim.models.keyedvectors.Vocab at 0x7f84700c02b0>,\n",
       " 'syrup': <gensim.models.keyedvectors.Vocab at 0x7f84700c0470>,\n",
       " 'take': <gensim.models.keyedvectors.Vocab at 0x7f84700c0198>,\n",
       " 'tangie': <gensim.models.keyedvectors.Vocab at 0x7f84700c8748>,\n",
       " 'tangy': <gensim.models.keyedvectors.Vocab at 0x7f84700c31d0>,\n",
       " 'taste': <gensim.models.keyedvectors.Vocab at 0x7f84700c8c50>,\n",
       " 'taste.': <gensim.models.keyedvectors.Vocab at 0x7f84700c3a20>,\n",
       " 'tasting': <gensim.models.keyedvectors.Vocab at 0x7f84700c0c50>,\n",
       " 'tasty': <gensim.models.keyedvectors.Vocab at 0x7f84700c3b00>,\n",
       " 'technology': <gensim.models.keyedvectors.Vocab at 0x7f84700c85f8>,\n",
       " 'terpene': <gensim.models.keyedvectors.Vocab at 0x7f84700c8b00>,\n",
       " 'terpenes.': <gensim.models.keyedvectors.Vocab at 0x7f84700c0630>,\n",
       " 'test': <gensim.models.keyedvectors.Vocab at 0x7f84700c5358>,\n",
       " 'tested': <gensim.models.keyedvectors.Vocab at 0x7f8454a10278>,\n",
       " 'testing': <gensim.models.keyedvectors.Vocab at 0x7f84700c66d8>,\n",
       " 'thats': <gensim.models.keyedvectors.Vocab at 0x7f8454a101d0>,\n",
       " 'thc': <gensim.models.keyedvectors.Vocab at 0x7f84700c6908>,\n",
       " 'thc.': <gensim.models.keyedvectors.Vocab at 0x7f84700c39b0>,\n",
       " 'thca': <gensim.models.keyedvectors.Vocab at 0x7f84700c8ac8>,\n",
       " 'thin': <gensim.models.keyedvectors.Vocab at 0x7f8454a106d8>,\n",
       " 'throughout': <gensim.models.keyedvectors.Vocab at 0x7f8454a0b0f0>,\n",
       " 'time': <gensim.models.keyedvectors.Vocab at 0x7f84700c0be0>,\n",
       " 'time.': <gensim.models.keyedvectors.Vocab at 0x7f84700c5c18>,\n",
       " 'tincture': <gensim.models.keyedvectors.Vocab at 0x7f84700c07f0>,\n",
       " 'top': <gensim.models.keyedvectors.Vocab at 0x7f84700c3f60>,\n",
       " 'topshelf': <gensim.models.keyedvectors.Vocab at 0x7f84700c6400>,\n",
       " 'total': <gensim.models.keyedvectors.Vocab at 0x7f84700c2860>,\n",
       " 'treat': <gensim.models.keyedvectors.Vocab at 0x7f84700c2fd0>,\n",
       " 'treating': <gensim.models.keyedvectors.Vocab at 0x7f84700c1cf8>,\n",
       " 'trichomes': <gensim.models.keyedvectors.Vocab at 0x7f84700c67b8>,\n",
       " 'triple': <gensim.models.keyedvectors.Vocab at 0x7f84700c16d8>,\n",
       " 'tropical': <gensim.models.keyedvectors.Vocab at 0x7f84700c3518>,\n",
       " 'true': <gensim.models.keyedvectors.Vocab at 0x7f84700c1860>,\n",
       " 'try': <gensim.models.keyedvectors.Vocab at 0x7f84700c3b70>,\n",
       " 'two': <gensim.models.keyedvectors.Vocab at 0x7f8454a10550>,\n",
       " 'ultimate': <gensim.models.keyedvectors.Vocab at 0x7f84700c3da0>,\n",
       " 'unbeatable.': <gensim.models.keyedvectors.Vocab at 0x7f84700c6240>,\n",
       " 'unique': <gensim.models.keyedvectors.Vocab at 0x7f84700c0a20>,\n",
       " 'uplifted': <gensim.models.keyedvectors.Vocab at 0x7f84700c3828>,\n",
       " 'uplifting': <gensim.models.keyedvectors.Vocab at 0x7f84700c2dd8>,\n",
       " 'use': <gensim.models.keyedvectors.Vocab at 0x7f84700c5cc0>,\n",
       " 'use.': <gensim.models.keyedvectors.Vocab at 0x7f8454a10940>,\n",
       " 'used': <gensim.models.keyedvectors.Vocab at 0x7f84700c84a8>,\n",
       " 'user': <gensim.models.keyedvectors.Vocab at 0x7f84700c0940>,\n",
       " 'using': <gensim.models.keyedvectors.Vocab at 0x7f84700c0ef0>,\n",
       " 'vanilla': <gensim.models.keyedvectors.Vocab at 0x7f84700c6048>,\n",
       " 'vape': <gensim.models.keyedvectors.Vocab at 0x7f84700c20f0>,\n",
       " 'vaping': <gensim.models.keyedvectors.Vocab at 0x7f84700c3630>,\n",
       " 'vapor': <gensim.models.keyedvectors.Vocab at 0x7f84700c6c88>,\n",
       " 'vaporizer': <gensim.models.keyedvectors.Vocab at 0x7f84700c06a0>,\n",
       " 'variety': <gensim.models.keyedvectors.Vocab at 0x7f84700c26a0>,\n",
       " 'vegan': <gensim.models.keyedvectors.Vocab at 0x7f84700c3b38>,\n",
       " 'want': <gensim.models.keyedvectors.Vocab at 0x7f8454a0ba90>,\n",
       " 'water': <gensim.models.keyedvectors.Vocab at 0x7f84700c5198>,\n",
       " 'watermelon': <gensim.models.keyedvectors.Vocab at 0x7f8454a10b70>,\n",
       " 'wax': <gensim.models.keyedvectors.Vocab at 0x7f84700c1438>,\n",
       " 'way': <gensim.models.keyedvectors.Vocab at 0x7f84700c5128>,\n",
       " 'wedding': <gensim.models.keyedvectors.Vocab at 0x7f84700c14e0>,\n",
       " 'weight': <gensim.models.keyedvectors.Vocab at 0x7f84700c80f0>,\n",
       " 'well': <gensim.models.keyedvectors.Vocab at 0x7f84700c1da0>,\n",
       " 'west': <gensim.models.keyedvectors.Vocab at 0x7f84700c24e0>,\n",
       " 'white': <gensim.models.keyedvectors.Vocab at 0x7f84700c6cf8>,\n",
       " 'whole': <gensim.models.keyedvectors.Vocab at 0x7f84700c2b38>,\n",
       " 'winning': <gensim.models.keyedvectors.Vocab at 0x7f84700c0eb8>,\n",
       " 'without': <gensim.models.keyedvectors.Vocab at 0x7f84700c5518>,\n",
       " 'work': <gensim.models.keyedvectors.Vocab at 0x7f84700c1048>,\n",
       " 'world': <gensim.models.keyedvectors.Vocab at 0x7f84700c1fd0>,\n",
       " 'x': <gensim.models.keyedvectors.Vocab at 0x7f84700c0160>,\n",
       " 'year': <gensim.models.keyedvectors.Vocab at 0x7f84700c8470>,\n",
       " 'yield': <gensim.models.keyedvectors.Vocab at 0x7f84700c5fd0>,\n",
       " 'youll': <gensim.models.keyedvectors.Vocab at 0x7f84700c8c18>,\n",
       " 'youre': <gensim.models.keyedvectors.Vocab at 0x7f8454a10160>}"
      ]
     },
     "execution_count": 105,
     "metadata": {},
     "output_type": "execute_result"
    }
   ],
   "source": [
    "w2v_model.wv.vocab # 145 words"
   ]
  },
  {
   "cell_type": "code",
   "execution_count": 106,
   "metadata": {
    "ExecuteTime": {
     "end_time": "2019-10-07T04:33:57.553824Z",
     "start_time": "2019-10-07T04:33:57.550220Z"
    }
   },
   "outputs": [
    {
     "data": {
      "text/plain": [
       "587"
      ]
     },
     "execution_count": 106,
     "metadata": {},
     "output_type": "execute_result"
    }
   ],
   "source": [
    "len(w2v_model.wv.vocab)"
   ]
  },
  {
   "cell_type": "code",
   "execution_count": 107,
   "metadata": {
    "ExecuteTime": {
     "end_time": "2019-10-07T04:34:33.076222Z",
     "start_time": "2019-10-07T04:34:05.012176Z"
    }
   },
   "outputs": [],
   "source": [
    "w2v_data = np.zeros((len(sentences), 100)) # \n",
    "for sentence_idx, sentence in enumerate(sentences):\n",
    "    ct = 0\n",
    "    for word in sentence:\n",
    "        if word in w2v_model.wv.vocab:\n",
    "            w2v_data[sentence_idx] += w2v_model.wv[word]\n",
    "            ct += 1\n",
    "    if ct > 0:\n",
    "        w2v_data[sentence_idx] /= ct"
   ]
  },
  {
   "cell_type": "code",
   "execution_count": 108,
   "metadata": {
    "ExecuteTime": {
     "end_time": "2019-10-07T04:34:37.130025Z",
     "start_time": "2019-10-07T04:34:36.793984Z"
    }
   },
   "outputs": [],
   "source": [
    "np.save('datasets/w2v_data.npy', w2v_data)"
   ]
  },
  {
   "cell_type": "markdown",
   "metadata": {},
   "source": [
    "## Load Data"
   ]
  },
  {
   "cell_type": "code",
   "execution_count": 123,
   "metadata": {
    "ExecuteTime": {
     "end_time": "2019-10-07T04:50:17.264380Z",
     "start_time": "2019-10-07T04:50:15.517646Z"
    }
   },
   "outputs": [],
   "source": [
    "from scipy.sparse import load_npz\n",
    "tfid_desc = load_npz('datasets/term_freq.npz')\n",
    "vec_desc = load_npz('datasets/bag_of_words.npz')"
   ]
  },
  {
   "cell_type": "markdown",
   "metadata": {},
   "source": [
    "# Dimensionality/Features\n",
    "## PCA\n",
    "Currently does not work b/c of sparse matrix"
   ]
  },
  {
   "cell_type": "code",
   "execution_count": 42,
   "metadata": {},
   "outputs": [
    {
     "name": "stderr",
     "output_type": "stream",
     "text": [
      "/home/jiwonkim/anaconda3/envs/weed_nlp/lib/python3.5/site-packages/sklearn/utils/validation.py:590: DataConversionWarning: Data with input dtype int64 was converted to float64 by StandardScaler.\n",
      "  warnings.warn(msg, DataConversionWarning)\n"
     ]
    }
   ],
   "source": [
    "from sklearn.preprocessing import StandardScaler\n",
    "vec_desc_std = StandardScaler(with_mean=False).fit_transform(vec_desc)\n",
    "tfid_desc_std = StandardScaler(with_mean=False).fit_transform(tfid_desc)"
   ]
  },
  {
   "cell_type": "code",
   "execution_count": 43,
   "metadata": {},
   "outputs": [
    {
     "data": {
      "text/plain": [
       "<1223818x3228 sparse matrix of type '<class 'numpy.float64'>'\n",
       "\twith 27768733 stored elements in Compressed Sparse Row format>"
      ]
     },
     "execution_count": 43,
     "metadata": {},
     "output_type": "execute_result"
    }
   ],
   "source": [
    "vec_desc_std"
   ]
  },
  {
   "cell_type": "code",
   "execution_count": 44,
   "metadata": {
    "collapsed": true
   },
   "outputs": [
    {
     "ename": "TypeError",
     "evalue": "PCA does not support sparse input. See TruncatedSVD for a possible alternative.",
     "output_type": "error",
     "traceback": [
      "\u001b[0;31m---------------------------------------------------------------------------\u001b[0m",
      "\u001b[0;31mTypeError\u001b[0m                                 Traceback (most recent call last)",
      "\u001b[0;32m<ipython-input-44-301f3f02ad98>\u001b[0m in \u001b[0;36m<module>\u001b[0;34m\u001b[0m\n\u001b[1;32m      1\u001b[0m \u001b[0;32mfrom\u001b[0m \u001b[0msklearn\u001b[0m\u001b[0;34m.\u001b[0m\u001b[0mdecomposition\u001b[0m \u001b[0;32mimport\u001b[0m \u001b[0mPCA\u001b[0m\u001b[0;34m\u001b[0m\u001b[0m\n\u001b[1;32m      2\u001b[0m \u001b[0mpca_bow\u001b[0m \u001b[0;34m=\u001b[0m \u001b[0mPCA\u001b[0m\u001b[0;34m(\u001b[0m\u001b[0mn_components\u001b[0m\u001b[0;34m=\u001b[0m\u001b[0;36m3228\u001b[0m\u001b[0;34m)\u001b[0m\u001b[0;34m\u001b[0m\u001b[0m\n\u001b[0;32m----> 3\u001b[0;31m \u001b[0mpca_bow\u001b[0m\u001b[0;34m.\u001b[0m\u001b[0mfit\u001b[0m\u001b[0;34m(\u001b[0m\u001b[0mvec_desc_std\u001b[0m\u001b[0;34m)\u001b[0m\u001b[0;34m\u001b[0m\u001b[0m\n\u001b[0m",
      "\u001b[0;32m~/anaconda3/envs/weed_nlp/lib/python3.5/site-packages/sklearn/decomposition/pca.py\u001b[0m in \u001b[0;36mfit\u001b[0;34m(self, X, y)\u001b[0m\n\u001b[1;32m    338\u001b[0m             \u001b[0mReturns\u001b[0m \u001b[0mthe\u001b[0m \u001b[0minstance\u001b[0m \u001b[0mitself\u001b[0m\u001b[0;34m.\u001b[0m\u001b[0;34m\u001b[0m\u001b[0m\n\u001b[1;32m    339\u001b[0m         \"\"\"\n\u001b[0;32m--> 340\u001b[0;31m         \u001b[0mself\u001b[0m\u001b[0;34m.\u001b[0m\u001b[0m_fit\u001b[0m\u001b[0;34m(\u001b[0m\u001b[0mX\u001b[0m\u001b[0;34m)\u001b[0m\u001b[0;34m\u001b[0m\u001b[0m\n\u001b[0m\u001b[1;32m    341\u001b[0m         \u001b[0;32mreturn\u001b[0m \u001b[0mself\u001b[0m\u001b[0;34m\u001b[0m\u001b[0m\n\u001b[1;32m    342\u001b[0m \u001b[0;34m\u001b[0m\u001b[0m\n",
      "\u001b[0;32m~/anaconda3/envs/weed_nlp/lib/python3.5/site-packages/sklearn/decomposition/pca.py\u001b[0m in \u001b[0;36m_fit\u001b[0;34m(self, X)\u001b[0m\n\u001b[1;32m    375\u001b[0m         \u001b[0;31m# This is more informative than the generic one raised by check_array.\u001b[0m\u001b[0;34m\u001b[0m\u001b[0;34m\u001b[0m\u001b[0m\n\u001b[1;32m    376\u001b[0m         \u001b[0;32mif\u001b[0m \u001b[0missparse\u001b[0m\u001b[0;34m(\u001b[0m\u001b[0mX\u001b[0m\u001b[0;34m)\u001b[0m\u001b[0;34m:\u001b[0m\u001b[0;34m\u001b[0m\u001b[0m\n\u001b[0;32m--> 377\u001b[0;31m             raise TypeError('PCA does not support sparse input. See '\n\u001b[0m\u001b[1;32m    378\u001b[0m                             'TruncatedSVD for a possible alternative.')\n\u001b[1;32m    379\u001b[0m \u001b[0;34m\u001b[0m\u001b[0m\n",
      "\u001b[0;31mTypeError\u001b[0m: PCA does not support sparse input. See TruncatedSVD for a possible alternative."
     ]
    }
   ],
   "source": [
    "from sklearn.decomposition import PCA\n",
    "pca_bow = PCA(n_components=3228)\n",
    "pca_bow.fit(vec_desc_std)"
   ]
  },
  {
   "cell_type": "code",
   "execution_count": null,
   "metadata": {},
   "outputs": [],
   "source": [
    "pca_tfid = PCA(n_components=3228)\n",
    "pca_tfid.fit(tfid_desc_std)"
   ]
  },
  {
   "cell_type": "code",
   "execution_count": 29,
   "metadata": {
    "ExecuteTime": {
     "end_time": "2019-10-01T03:14:21.937330Z",
     "start_time": "2019-10-01T03:14:21.610529Z"
    },
    "collapsed": true
   },
   "outputs": [
    {
     "ename": "NameError",
     "evalue": "name 'pca_bow' is not defined",
     "output_type": "error",
     "traceback": [
      "\u001b[0;31m---------------------------------------------------------------------------\u001b[0m",
      "\u001b[0;31mNameError\u001b[0m                                 Traceback (most recent call last)",
      "\u001b[0;32m<ipython-input-29-4fb0e339b119>\u001b[0m in \u001b[0;36m<module>\u001b[0;34m\u001b[0m\n\u001b[1;32m      1\u001b[0m \u001b[0mplt\u001b[0m\u001b[0;34m.\u001b[0m\u001b[0msubplot\u001b[0m\u001b[0;34m(\u001b[0m\u001b[0;36m121\u001b[0m\u001b[0;34m)\u001b[0m\u001b[0;34m\u001b[0m\u001b[0m\n\u001b[1;32m      2\u001b[0m \u001b[0mplt\u001b[0m\u001b[0;34m.\u001b[0m\u001b[0mtitle\u001b[0m\u001b[0;34m(\u001b[0m\u001b[0;34m\"PCA Explained Variance for BOW\"\u001b[0m\u001b[0;34m)\u001b[0m\u001b[0;34m\u001b[0m\u001b[0m\n\u001b[0;32m----> 3\u001b[0;31m \u001b[0mplt\u001b[0m\u001b[0;34m.\u001b[0m\u001b[0mplot\u001b[0m\u001b[0;34m(\u001b[0m\u001b[0mnp\u001b[0m\u001b[0;34m.\u001b[0m\u001b[0mcumsum\u001b[0m\u001b[0;34m(\u001b[0m\u001b[0mpca_bow\u001b[0m\u001b[0;34m.\u001b[0m\u001b[0mexplained_variance_ratio_\u001b[0m\u001b[0;34m)\u001b[0m\u001b[0;34m)\u001b[0m\u001b[0;34m\u001b[0m\u001b[0m\n\u001b[0m\u001b[1;32m      4\u001b[0m \u001b[0mplt\u001b[0m\u001b[0;34m.\u001b[0m\u001b[0msubplot\u001b[0m\u001b[0;34m(\u001b[0m\u001b[0;36m122\u001b[0m\u001b[0;34m)\u001b[0m\u001b[0;34m\u001b[0m\u001b[0m\n\u001b[1;32m      5\u001b[0m \u001b[0mplt\u001b[0m\u001b[0;34m.\u001b[0m\u001b[0mtitle\u001b[0m\u001b[0;34m(\u001b[0m\u001b[0;34m\"PCA Explained Variance for TFID\"\u001b[0m\u001b[0;34m)\u001b[0m\u001b[0;34m\u001b[0m\u001b[0m\n",
      "\u001b[0;31mNameError\u001b[0m: name 'pca_bow' is not defined"
     ]
    },
    {
     "data": {
      "image/png": "[encoded data removed]",
      "text/plain": [
       "<Figure size 432x288 with 1 Axes>"
      ]
     },
     "metadata": {
      "needs_background": "light"
     },
     "output_type": "display_data"
    }
   ],
   "source": [
    "plt.subplot(121)\n",
    "plt.title(\"PCA Explained Variance for BOW\")\n",
    "plt.plot(np.cumsum(pca_bow.explained_variance_ratio_))\n",
    "plt.subplot(122)\n",
    "plt.title(\"PCA Explained Variance for TFID\")\n",
    "plt.plot(np.cumsum(pca_bow.explained_variance_ratio_))\n",
    "plt.show()"
   ]
  },
  {
   "cell_type": "markdown",
   "metadata": {},
   "source": [
    "## Truncated SVD\n",
    "| number of components |  50  | 100 | 150 |\n",
    "|----------------------|------|-----|-----|\n",
    "|   explained variance | 0.35 | 0.50| tbd |\n",
    "\n",
    "\n",
    "Note 150 components takes a long time. Benefit over PCA: PCA could potentially work but BOW and TFIDF create sparse matrices, which makes PCA unusable (b/c of large matrices). Plus, you do not need to standard scale using TruncatedSVD"
   ]
  },
  {
   "cell_type": "code",
   "execution_count": 3,
   "metadata": {
    "ExecuteTime": {
     "end_time": "2019-10-02T08:18:10.060413Z",
     "start_time": "2019-10-02T08:16:49.198310Z"
    },
    "scrolled": true
   },
   "outputs": [],
   "source": [
    "from sklearn.decomposition import TruncatedSVD\n",
    "tsvd_bow = TruncatedSVD(n_components=100)\n",
    "tsvd_bow_npy = tsvd_bow.fit_transform(vec_desc)"
   ]
  },
  {
   "cell_type": "code",
   "execution_count": null,
   "metadata": {
    "ExecuteTime": {
     "start_time": "2019-10-02T08:16:51.583Z"
    }
   },
   "outputs": [],
   "source": [
    "tsvd_tfid = TruncatedSVD(n_components=100)\n",
    "tsvd_tfid_npy = tsvd_tfid.fit_transform(tfid_desc)"
   ]
  },
  {
   "cell_type": "code",
   "execution_count": 10,
   "metadata": {},
   "outputs": [
    {
     "data": {
      "image/png": "[encoded data removed]",
      "text/plain": [
       "<Figure size 1080x360 with 2 Axes>"
      ]
     },
     "metadata": {
      "needs_background": "light"
     },
     "output_type": "display_data"
    }
   ],
   "source": [
    "plt.figure(figsize=(15, 5))\n",
    "plt.subplot(121)\n",
    "plt.title(\"TSVD Explained Variance for BOW\")\n",
    "plt.plot(np.cumsum(tsvd_bow.explained_variance_ratio_))\n",
    "plt.subplot(122)\n",
    "plt.title(\"TSVD Explained Variance for TFID\")\n",
    "plt.plot(np.cumsum(tsvd_tfid.explained_variance_ratio_))\n",
    "plt.show()"
   ]
  },
  {
   "cell_type": "code",
   "execution_count": null,
   "metadata": {},
   "outputs": [],
   "source": [
    "from joblib import dump, load\n",
    "dump(tsvd_bow, 'models/tsvd_bow.joblib')\n",
    "dump(tsvd_tfid, 'models/tsvd_tfid.joblib')\n",
    "\n",
    "np.save('datasets/tsvd_bow.npy', tsvd_bow_npy)\n",
    "np.save('datasets/tsvd_tfid.npy', tsvd_tfid_npy)"
   ]
  },
  {
   "cell_type": "code",
   "execution_count": 5,
   "metadata": {
    "ExecuteTime": {
     "end_time": "2019-10-02T09:40:11.238951Z",
     "start_time": "2019-10-02T09:40:10.155808Z"
    }
   },
   "outputs": [],
   "source": [
    "# reload\n",
    "tsvd_tfid_npy = np.load('datasets/tsvd_tfid.npy')\n",
    "tsvd_bow_npy = np.load('datasets/tsvd_bow.npy')"
   ]
  },
  {
   "cell_type": "markdown",
   "metadata": {},
   "source": [
    "## LDA"
   ]
  },
  {
   "cell_type": "code",
   "execution_count": null,
   "metadata": {},
   "outputs": [],
   "source": [
    "# 1,000 took 1.37 seconds\n",
    "# 10,000 took 14.1 seconds\n",
    "# 40,000 took 80 seconds\n",
    "\n",
    "# guess 400,000 will take 800 seconds (20 minutes)\n",
    "# so 1.2 million will take around an hour"
   ]
  },
  {
   "cell_type": "code",
   "execution_count": 125,
   "metadata": {
    "ExecuteTime": {
     "end_time": "2019-10-07T04:54:01.936829Z",
     "start_time": "2019-10-07T04:50:51.065458Z"
    },
    "collapsed": true
   },
   "outputs": [
    {
     "name": "stdout",
     "output_type": "stream",
     "text": [
      "0\n",
      "1\n",
      "2\n",
      "3\n",
      "4\n",
      "5\n",
      "6\n",
      "7\n",
      "8\n",
      "9\n",
      "[410.0410395900779, 292.77617813518714, 242.402812087812, 214.83515060218483, 195.34773894149433, 177.43858976152018, 163.25507439372322, 156.81857487046682, 153.15642596404808, 141.63549104420522]\n"
     ]
    }
   ],
   "source": [
    "# took 1m28s\n",
    "from sklearn.decomposition import LatentDirichletAllocation as LDA\n",
    "from sklearn.model_selection import GridSearchCV\n",
    "# search_params = {'n_components': [10, 15, 20, 25, 30]}\n",
    "n_components = [10, 20, 30, 40, 50, 60, 70, 80, 90, 100]\n",
    "lda_lst = [None for x in range(len(n_components))]\n",
    "perplexity = [None for x in range(len(n_components))]\n",
    "\n",
    "lda_data = vec_desc[:10000]\n",
    "\n",
    "for idx, n_c in enumerate(n_components):\n",
    "    print(idx)\n",
    "    lda = LDA(n_components = n_c)\n",
    "    lda_lst[idx] = lda\n",
    "    lda_bow = lda.fit_transform(lda_data) # TO-DO: need to randomize\n",
    "    perplexity[idx] = lda.perplexity(lda_data)\n",
    "print(perplexity)\n",
    "# model = GridSearchCV(lda, param_grid = search_params)\n",
    "# model.fit(vec_desc)"
   ]
  },
  {
   "cell_type": "code",
   "execution_count": 168,
   "metadata": {
    "ExecuteTime": {
     "end_time": "2019-10-07T05:52:04.478667Z",
     "start_time": "2019-10-07T05:52:04.473170Z"
    }
   },
   "outputs": [
    {
     "data": {
      "text/plain": [
       "(100, 3228)"
      ]
     },
     "execution_count": 168,
     "metadata": {},
     "output_type": "execute_result"
    }
   ],
   "source": [
    "lda_lst[-1].components_.shape"
   ]
  },
  {
   "cell_type": "code",
   "execution_count": 186,
   "metadata": {
    "ExecuteTime": {
     "end_time": "2019-10-07T05:58:24.920778Z",
     "start_time": "2019-10-07T05:58:24.917549Z"
    }
   },
   "outputs": [
    {
     "data": {
      "text/plain": [
       "'1.12'"
      ]
     },
     "execution_count": 186,
     "metadata": {},
     "output_type": "execute_result"
    }
   ],
   "source": [
    "'{0:.2f}'.format(1.1234)"
   ]
  },
  {
   "cell_type": "code",
   "execution_count": 190,
   "metadata": {
    "ExecuteTime": {
     "end_time": "2019-10-07T05:59:50.135108Z",
     "start_time": "2019-10-07T05:59:50.116242Z"
    }
   },
   "outputs": [],
   "source": [
    "lda_obj = lda_lst[-1]\n",
    "with open('datasets/lda_topics.csv', mode='w') as lda_topics:\n",
    "    writer = csv.writer(lda_topics, delimiter=',', quotechar='\"', quoting=csv.QUOTE_MINIMAL)\n",
    "    col_names = []\n",
    "    for i in range(1, 11):\n",
    "        col_names.append('{}-th popular word'.format(str(i)))\n",
    "        col_names.append('{}-th ct'.format(str(i)))\n",
    "    writer.writerow(col_names)\n",
    "    components = lda_obj.components_\n",
    "    for topic_idx in range(components.shape[0]):\n",
    "        csv_row = []\n",
    "        for word_idx in components[topic_idx].argsort()[:-11:-1]:\n",
    "            csv_row.extend([words[word_idx], '{0:.3f}'.format(float(components[topic_idx][word_idx]))])\n",
    "        writer.writerow(csv_row)"
   ]
  },
  {
   "cell_type": "code",
   "execution_count": 126,
   "metadata": {
    "ExecuteTime": {
     "end_time": "2019-10-07T04:54:14.868250Z",
     "start_time": "2019-10-07T04:54:14.609486Z"
    }
   },
   "outputs": [
    {
     "data": {
      "image/png": "[encoded data removed]",
      "text/plain": [
       "<Figure size 432x288 with 1 Axes>"
      ]
     },
     "metadata": {
      "needs_background": "light"
     },
     "output_type": "display_data"
    }
   ],
   "source": [
    "plt.title(\"Number of LDA components vs Perplexity (lower = better)\")\n",
    "plt.plot(n_components, perplexity)\n",
    "plt.show()"
   ]
  },
  {
   "cell_type": "code",
   "execution_count": null,
   "metadata": {},
   "outputs": [],
   "source": [
    "from joblib import dump, load\n",
    "dump(tsvd_bow, 'models/lda_bow.joblib')"
   ]
  },
  {
   "cell_type": "markdown",
   "metadata": {},
   "source": [
    "# Clustering\n",
    "## Kmeans\n",
    "Note that kmeans cannot take in a sparse matrix, so it must be result of TruncatedSVD/LDA/etc, or you must convert to dense matrix. Interpretation of silhouette: compares average distance to other points within same cluster to that of the nearest other cluster (the higher the silhouette, the better the clustering)\n",
    "\n",
    "Notes: 5 clusters with 50 parameters, ran for 1 minute and 14 seconds.\n",
    "\n",
    "silhouette score took too long, so I've abandoned analyzing via silhouette score\n",
    "\n",
    "| clusters | dimensions | time | silhouette time | data preprocessing |\n",
    "|----------|------------|------|-----------------|--------------------|\n",
    "| 5        | 50         | 74sec|     14minutes+  |   TSVD             |\n"
   ]
  },
  {
   "cell_type": "code",
   "execution_count": 57,
   "metadata": {
    "ExecuteTime": {
     "end_time": "2019-10-02T12:01:04.501235Z",
     "start_time": "2019-10-02T11:53:21.323600Z"
    },
    "collapsed": true
   },
   "outputs": [
    {
     "name": "stdout",
     "output_type": "stream",
     "text": [
      "0\n",
      "1\n",
      "2\n",
      "3\n",
      "4\n",
      "5\n"
     ]
    },
    {
     "ename": "IndexError",
     "evalue": "list index out of range",
     "output_type": "error",
     "traceback": [
      "\u001b[0;31m---------------------------------------------------------------------------\u001b[0m",
      "\u001b[0;31mIndexError\u001b[0m                                Traceback (most recent call last)",
      "\u001b[0;32m<ipython-input-57-1b32891fbd35>\u001b[0m in \u001b[0;36m<module>\u001b[0;34m\u001b[0m\n\u001b[1;32m      8\u001b[0m \u001b[0;32mfor\u001b[0m \u001b[0mi\u001b[0m \u001b[0;32min\u001b[0m \u001b[0mrange\u001b[0m\u001b[0;34m(\u001b[0m\u001b[0mnum_clusters\u001b[0m\u001b[0;34m)\u001b[0m\u001b[0;34m:\u001b[0m\u001b[0;34m\u001b[0m\u001b[0m\n\u001b[1;32m      9\u001b[0m     \u001b[0mprint\u001b[0m\u001b[0;34m(\u001b[0m\u001b[0mi\u001b[0m\u001b[0;34m)\u001b[0m\u001b[0;34m\u001b[0m\u001b[0m\n\u001b[0;32m---> 10\u001b[0;31m     \u001b[0mdist_to_clusters\u001b[0m \u001b[0;34m=\u001b[0m \u001b[0mkmeans_bow\u001b[0m\u001b[0;34m[\u001b[0m\u001b[0mi\u001b[0m\u001b[0;34m]\u001b[0m\u001b[0;34m.\u001b[0m\u001b[0mfit_transform\u001b[0m\u001b[0;34m(\u001b[0m\u001b[0mtsvd_bow_npy\u001b[0m\u001b[0;34m[\u001b[0m\u001b[0;34m:\u001b[0m\u001b[0;34m,\u001b[0m\u001b[0;34m:\u001b[0m\u001b[0;34m]\u001b[0m\u001b[0;34m)\u001b[0m\u001b[0;34m\u001b[0m\u001b[0m\n\u001b[0m\u001b[1;32m     11\u001b[0m     \u001b[0mpreds\u001b[0m \u001b[0;34m=\u001b[0m \u001b[0mkmeans_bow\u001b[0m\u001b[0;34m[\u001b[0m\u001b[0mi\u001b[0m\u001b[0;34m]\u001b[0m\u001b[0;34m.\u001b[0m\u001b[0mpredict\u001b[0m\u001b[0;34m(\u001b[0m\u001b[0mtsvd_bow_npy\u001b[0m\u001b[0;34m[\u001b[0m\u001b[0;34m:\u001b[0m\u001b[0;34m,\u001b[0m \u001b[0;34m:\u001b[0m\u001b[0;34m]\u001b[0m\u001b[0;34m)\u001b[0m\u001b[0;34m\u001b[0m\u001b[0m\n\u001b[1;32m     12\u001b[0m     \u001b[0mnp\u001b[0m\u001b[0;34m.\u001b[0m\u001b[0mrandom\u001b[0m\u001b[0;34m.\u001b[0m\u001b[0mseed\u001b[0m\u001b[0;34m(\u001b[0m\u001b[0mi\u001b[0m\u001b[0;34m)\u001b[0m\u001b[0;34m\u001b[0m\u001b[0m\n",
      "\u001b[0;31mIndexError\u001b[0m: list index out of range"
     ]
    }
   ],
   "source": [
    "from sklearn.cluster import KMeans\n",
    "from sklearn.metrics import silhouette_score\n",
    "num_clusters = 7\n",
    "kmeans_bow = [KMeans(n_clusters=x, random_state=0)\n",
    "              for x in range(3, num_clusters + 1)]\n",
    "silhou_bow = [0 for x in range(3, num_clusters + 1)]\n",
    "silhou_ind = [0 for x in range(3, num_clusters + 1)]\n",
    "for i in range(num_clusters):\n",
    "    print(i)\n",
    "    dist_to_clusters = kmeans_bow[i].fit_transform(tsvd_bow_npy[:,:])\n",
    "    preds = kmeans_bow[i].predict(tsvd_bow_npy[:, :])\n",
    "    np.random.seed(i)\n",
    "    choose = np.random.choice(np.arange(tsvd_bow_npy.shape[0]), 10000)\n",
    "    silhou_bow[i] = silhouette_score(tsvd_bow_npy[choose], preds[choose])\n",
    "    silhou_ind[i] = choose"
   ]
  },
  {
   "cell_type": "code",
   "execution_count": 3,
   "metadata": {
    "ExecuteTime": {
     "end_time": "2019-10-03T01:23:41.030218Z",
     "start_time": "2019-10-03T01:23:41.021233Z"
    }
   },
   "outputs": [],
   "source": [
    "silhou_bow = [0.32165693172674165,\n",
    " 0.33166540320384535,\n",
    " 0.3416754440777323,\n",
    " 0.2691255950196097,\n",
    " 0.23379680186678983]"
   ]
  },
  {
   "cell_type": "code",
   "execution_count": 58,
   "metadata": {
    "ExecuteTime": {
     "end_time": "2019-10-02T12:01:17.645492Z",
     "start_time": "2019-10-02T12:01:17.636328Z"
    }
   },
   "outputs": [
    {
     "data": {
      "text/plain": [
       "[0.32165693172674165,\n",
       " 0.33166540320384535,\n",
       " 0.3416754440777323,\n",
       " 0.2691255950196097,\n",
       " 0.23379680186678983]"
      ]
     },
     "execution_count": 58,
     "metadata": {},
     "output_type": "execute_result"
    }
   ],
   "source": [
    "silhou_bow # took 7minutes 43 seconds"
   ]
  },
  {
   "cell_type": "code",
   "execution_count": 5,
   "metadata": {
    "ExecuteTime": {
     "end_time": "2019-10-03T01:23:56.554562Z",
     "start_time": "2019-10-03T01:23:56.435746Z"
    }
   },
   "outputs": [
    {
     "data": {
      "image/png": "[encoded data removed]",
      "text/plain": [
       "<Figure size 432x288 with 1 Axes>"
      ]
     },
     "metadata": {
      "needs_background": "light"
     },
     "output_type": "display_data"
    }
   ],
   "source": [
    "plt.title(\"silhouette score for number of clusters (higher = better)\")\n",
    "plt.plot(silhou_bow)\n",
    "plt.show()"
   ]
  },
  {
   "cell_type": "markdown",
   "metadata": {},
   "source": [
    "TSNE\n",
    "500 data points took 3s"
   ]
  },
  {
   "cell_type": "code",
   "execution_count": 15,
   "metadata": {
    "ExecuteTime": {
     "end_time": "2019-10-02T11:29:45.997228Z",
     "start_time": "2019-10-02T11:29:42.883769Z"
    },
    "scrolled": true
   },
   "outputs": [],
   "source": [
    "from MulticoreTSNE import MulticoreTSNE as TSNE\n",
    "bow_embedded = TSNE(n_jobs=4).fit_transform(tsvd_bow_npy[:500, :])"
   ]
  },
  {
   "cell_type": "code",
   "execution_count": 27,
   "metadata": {
    "ExecuteTime": {
     "end_time": "2019-10-02T11:34:06.847928Z",
     "start_time": "2019-10-02T11:34:06.834233Z"
    },
    "scrolled": true
   },
   "outputs": [],
   "source": [
    "dispensaries = cleaned_weed_text[['dispensary_name']].iloc[:500].values.flatten()\n",
    "dispensaries = dispensaries.tolist()"
   ]
  },
  {
   "cell_type": "code",
   "execution_count": 126,
   "metadata": {
    "ExecuteTime": {
     "end_time": "2019-10-02T21:25:31.621995Z",
     "start_time": "2019-10-02T21:25:31.619425Z"
    }
   },
   "outputs": [],
   "source": [
    "name_to_ind = {}\n",
    "names = []\n",
    "ct = 0\n",
    "new_dispensaries = []\n",
    "for elem in dispensaries:\n",
    "    if elem not in name_to_ind:\n",
    "        name_to_ind[elem] = ct\n",
    "        names.append(elem)\n",
    "        ct += 1\n",
    "    new_dispensaries.append(name_to_ind[elem])"
   ]
  },
  {
   "cell_type": "code",
   "execution_count": 40,
   "metadata": {
    "ExecuteTime": {
     "end_time": "2019-10-02T11:38:52.232277Z",
     "start_time": "2019-10-02T11:38:52.111315Z"
    }
   },
   "outputs": [
    {
     "data": {
      "image/png": "[encoded data removed]",
      "text/plain": [
       "<Figure size 432x288 with 1 Axes>"
      ]
     },
     "metadata": {
      "needs_background": "light"
     },
     "output_type": "display_data"
    }
   ],
   "source": [
    "plt.title(\"TSNE of 500 descriptions colored by dispensary\")\n",
    "plt.scatter(bow_embedded[:, 0], bow_embedded[:, 1], c = new_dispensaries, s = 8.0)\n",
    "plt.show()"
   ]
  },
  {
   "cell_type": "code",
   "execution_count": 59,
   "metadata": {
    "ExecuteTime": {
     "end_time": "2019-10-02T12:02:06.287538Z",
     "start_time": "2019-10-02T12:02:06.097501Z"
    }
   },
   "outputs": [
    {
     "data": {
      "text/plain": [
       "['models/kmeans_bow_silh_ind.joblib']"
      ]
     },
     "execution_count": 59,
     "metadata": {},
     "output_type": "execute_result"
    }
   ],
   "source": [
    "from joblib import dump, load\n",
    "dump(kmeans_bow, 'models/kmeans_bow.joblib')\n",
    "dump(silhou_bow, 'models/kmeans_bow_silh.joblib')\n",
    "dump(silhou_ind, 'models/kmeans_bow_silh_ind.joblib')"
   ]
  },
  {
   "cell_type": "code",
   "execution_count": null,
   "metadata": {},
   "outputs": [],
   "source": [
    "num_clusters = 10\n",
    "kmeans_tfid = [Kmeans(n_clusters=x, random_state=0)\n",
    "               for x in range(1, num_clusters + 1)]\n",
    "silhou_tfid = [0 for x in range(num_clusters)]\n",
    "for i in range(num_clusters):\n",
    "    cluster_labels = kmeans_tfid[i].fit(tsvd_tfid)\n",
    "    silhou_tfid[i] = silhouette_score(tsvd_tfid, cluster_labels)"
   ]
  },
  {
   "cell_type": "markdown",
   "metadata": {},
   "source": [
    "## KNN (Unsupervised)"
   ]
  },
  {
   "cell_type": "markdown",
   "metadata": {},
   "source": [
    "| dimensions | training time | kneighbors time |\n",
    "|------------|---------------|-----------------|\n",
    "| 100        | 47.8 sec      | counting        |"
   ]
  },
  {
   "cell_type": "code",
   "execution_count": 3,
   "metadata": {
    "ExecuteTime": {
     "end_time": "2019-10-02T09:39:57.135515Z",
     "start_time": "2019-10-02T09:39:54.420189Z"
    }
   },
   "outputs": [],
   "source": [
    "cleaned_weed_text = pd.read_csv('datasets/cleaned_desc.csv')"
   ]
  },
  {
   "cell_type": "code",
   "execution_count": 6,
   "metadata": {
    "ExecuteTime": {
     "end_time": "2019-10-02T09:40:38.469385Z",
     "start_time": "2019-10-02T09:40:18.004574Z"
    }
   },
   "outputs": [],
   "source": [
    "from sklearn.neighbors import NearestNeighbors\n",
    "nbrs = NearestNeighbors(n_neighbors=5, algorithm='ball_tree').fit(tsvd_bow_npy)"
   ]
  },
  {
   "cell_type": "markdown",
   "metadata": {},
   "source": [
    "Example 1: $100.00 Oz's nearest neighbors"
   ]
  },
  {
   "cell_type": "code",
   "execution_count": 7,
   "metadata": {
    "ExecuteTime": {
     "end_time": "2019-10-02T09:40:51.573822Z",
     "start_time": "2019-10-02T09:40:51.371395Z"
    }
   },
   "outputs": [],
   "source": [
    "distances, indices = nbrs.kneighbors(tsvd_bow_npy[:1,:])"
   ]
  },
  {
   "cell_type": "code",
   "execution_count": 8,
   "metadata": {
    "ExecuteTime": {
     "end_time": "2019-10-02T09:40:57.537958Z",
     "start_time": "2019-10-02T09:40:57.520320Z"
    }
   },
   "outputs": [
    {
     "data": {
      "text/html": [
       "<div>\n",
       "<style scoped>\n",
       "    .dataframe tbody tr th:only-of-type {\n",
       "        vertical-align: middle;\n",
       "    }\n",
       "\n",
       "    .dataframe tbody tr th {\n",
       "        vertical-align: top;\n",
       "    }\n",
       "\n",
       "    .dataframe thead th {\n",
       "        text-align: right;\n",
       "    }\n",
       "</style>\n",
       "<table border=\"1\" class=\"dataframe\">\n",
       "  <thead>\n",
       "    <tr style=\"text-align: right;\">\n",
       "      <th></th>\n",
       "      <th>Unnamed: 0</th>\n",
       "      <th>dispensary_name</th>\n",
       "      <th>description</th>\n",
       "      <th>product_name</th>\n",
       "      <th>price_eighth</th>\n",
       "    </tr>\n",
       "  </thead>\n",
       "  <tbody>\n",
       "    <tr>\n",
       "      <th>17</th>\n",
       "      <td>28</td>\n",
       "      <td>$100.00 Oz</td>\n",
       "      <td>Lucifer OG by Karma Genetics is the devilish o...</td>\n",
       "      <td>(Outdoor) Lucifer OG $59.99 oz</td>\n",
       "      <td>0.0</td>\n",
       "    </tr>\n",
       "    <tr>\n",
       "      <th>0</th>\n",
       "      <td>0</td>\n",
       "      <td>$100.00 Oz</td>\n",
       "      <td>Lucifer OG by Karma Genetics is the devilish o...</td>\n",
       "      <td>(Outdoor) Lucifer OG $59.99 oz</td>\n",
       "      <td>0.0</td>\n",
       "    </tr>\n",
       "    <tr>\n",
       "      <th>34</th>\n",
       "      <td>56</td>\n",
       "      <td>$100.00 Oz</td>\n",
       "      <td>Lucifer OG by Karma Genetics is the devilish o...</td>\n",
       "      <td>(Outdoor) Lucifer OG $59.99 oz</td>\n",
       "      <td>0.0</td>\n",
       "    </tr>\n",
       "    <tr>\n",
       "      <th>70689</th>\n",
       "      <td>125676</td>\n",
       "      <td>Botanica - Tucson</td>\n",
       "      <td>(Biker Kush x Amnesia Og) Accompanied with a b...</td>\n",
       "      <td>Where's My Bike?</td>\n",
       "      <td>42.0</td>\n",
       "    </tr>\n",
       "    <tr>\n",
       "      <th>554157</th>\n",
       "      <td>869598</td>\n",
       "      <td>Jamestown Yuma</td>\n",
       "      <td>It was created by breeding the Calyx Garden Pi...</td>\n",
       "      <td>Pineapple Cookies</td>\n",
       "      <td>0.0</td>\n",
       "    </tr>\n",
       "  </tbody>\n",
       "</table>\n",
       "</div>"
      ],
      "text/plain": [
       "        Unnamed: 0    dispensary_name  \\\n",
       "17              28         $100.00 Oz   \n",
       "0                0         $100.00 Oz   \n",
       "34              56         $100.00 Oz   \n",
       "70689       125676  Botanica - Tucson   \n",
       "554157      869598     Jamestown Yuma   \n",
       "\n",
       "                                              description  \\\n",
       "17      Lucifer OG by Karma Genetics is the devilish o...   \n",
       "0       Lucifer OG by Karma Genetics is the devilish o...   \n",
       "34      Lucifer OG by Karma Genetics is the devilish o...   \n",
       "70689   (Biker Kush x Amnesia Og) Accompanied with a b...   \n",
       "554157  It was created by breeding the Calyx Garden Pi...   \n",
       "\n",
       "                          product_name  price_eighth  \n",
       "17      (Outdoor) Lucifer OG $59.99 oz           0.0  \n",
       "0       (Outdoor) Lucifer OG $59.99 oz           0.0  \n",
       "34      (Outdoor) Lucifer OG $59.99 oz           0.0  \n",
       "70689                 Where's My Bike?          42.0  \n",
       "554157               Pineapple Cookies           0.0  "
      ]
     },
     "execution_count": 8,
     "metadata": {},
     "output_type": "execute_result"
    }
   ],
   "source": [
    "close_to_first = indices[0]\n",
    "cleaned_weed_text.iloc[close_to_first]"
   ]
  },
  {
   "cell_type": "code",
   "execution_count": 71,
   "metadata": {
    "ExecuteTime": {
     "end_time": "2019-10-02T12:07:16.996295Z",
     "start_time": "2019-10-02T12:07:16.980812Z"
    }
   },
   "outputs": [
    {
     "name": "stdout",
     "output_type": "stream",
     "text": [
      "original\n",
      " Lucifer OG by Karma Genetics is the devilish offspring of aHells OGmother and a backcrossedSFV OG Kushmale. Emitting the classic kush aroma of pine and forest floor, this strain tends to grow larger than its parents and offers an ample, resinous harvest after its 9 to 11 week flowering time. Lucifer OGs mid-level euphoria helps dissolve stress while its compounding physical relaxation helps mitigate minor aches and pains. \n",
      "\n",
      "comparison1\n",
      " (Biker Kush x Amnesia Og) Accompanied with a beautiful fresh aroma, this sativa-dominant strain is great for a cerebral buzz also while relieving stress. \n",
      "\n",
      "comparison2\n",
      " It was created by breeding the Calyx Garden Pineapple OG Kush father (Poison OG x Purple Pineapple) with the long-lasting body-melter Platinum GSC. Relaxation and happiness creep across the body, gradually dissolving stress and depression as the consumers mood elevates. This strain's aroma is bright and buttery, exhibiting sweet notes from both its parents. \n",
      "\n"
     ]
    }
   ],
   "source": [
    "print('original\\n', cleaned_weed_text.iloc[close_to_first]['description'].iloc[0],'\\n')\n",
    "print('comparison1\\n', cleaned_weed_text.iloc[close_to_first]['description'].iloc[3], '\\n')\n",
    "print('comparison2\\n', cleaned_weed_text.iloc[close_to_first]['description'].iloc[4], '\\n')"
   ]
  },
  {
   "cell_type": "code",
   "execution_count": 80,
   "metadata": {
    "ExecuteTime": {
     "end_time": "2019-10-02T12:11:10.593011Z",
     "start_time": "2019-10-02T12:11:10.571594Z"
    }
   },
   "outputs": [
    {
     "data": {
      "text/plain": [
       "({'a', 'is', 'kush', 'strain', 'this', 'while'},\n",
       " {'and',\n",
       "  'aroma',\n",
       "  'by',\n",
       "  'is',\n",
       "  'its',\n",
       "  'kush',\n",
       "  'og',\n",
       "  'relaxation',\n",
       "  'stress',\n",
       "  'the',\n",
       "  'this'})"
      ]
     },
     "execution_count": 80,
     "metadata": {},
     "output_type": "execute_result"
    }
   ],
   "source": [
    "words_in_orig = set(cleaned_weed_text.iloc[close_to_first]['description'].iloc[0].lower().split(\" \"))\n",
    "words_in_new1 = set(cleaned_weed_text.iloc[close_to_first]['description'].iloc[3].lower().split(\" \"))\n",
    "words_in_new2 = set(cleaned_weed_text.iloc[close_to_first]['description'].iloc[4].lower().split(\" \"))\n",
    "words_in_orig.intersection(words_in_new1), words_in_orig.intersection(words_in_new2)"
   ]
  },
  {
   "cell_type": "markdown",
   "metadata": {},
   "source": [
    "Example 2"
   ]
  },
  {
   "cell_type": "code",
   "execution_count": 63,
   "metadata": {
    "ExecuteTime": {
     "end_time": "2019-10-02T12:04:35.389972Z",
     "start_time": "2019-10-02T12:04:34.167327Z"
    }
   },
   "outputs": [],
   "source": [
    "distances1, indices1 = nbrs.kneighbors(tsvd_bow_npy[100:101,:])"
   ]
  },
  {
   "cell_type": "code",
   "execution_count": 66,
   "metadata": {
    "ExecuteTime": {
     "end_time": "2019-10-02T12:05:07.535510Z",
     "start_time": "2019-10-02T12:05:07.512912Z"
    }
   },
   "outputs": [
    {
     "data": {
      "text/html": [
       "<div>\n",
       "<style scoped>\n",
       "    .dataframe tbody tr th:only-of-type {\n",
       "        vertical-align: middle;\n",
       "    }\n",
       "\n",
       "    .dataframe tbody tr th {\n",
       "        vertical-align: top;\n",
       "    }\n",
       "\n",
       "    .dataframe thead th {\n",
       "        text-align: right;\n",
       "    }\n",
       "</style>\n",
       "<table border=\"1\" class=\"dataframe\">\n",
       "  <thead>\n",
       "    <tr style=\"text-align: right;\">\n",
       "      <th></th>\n",
       "      <th>Unnamed: 0</th>\n",
       "      <th>dispensary_name</th>\n",
       "      <th>description</th>\n",
       "      <th>product_name</th>\n",
       "      <th>price_eighth</th>\n",
       "    </tr>\n",
       "  </thead>\n",
       "  <tbody>\n",
       "    <tr>\n",
       "      <th>100</th>\n",
       "      <td>177</td>\n",
       "      <td>1 LOVE SERVICES</td>\n",
       "      <td>Master Kush, MK, is a popular indica cross bet...</td>\n",
       "      <td>Master Kush</td>\n",
       "      <td>40.0</td>\n",
       "    </tr>\n",
       "    <tr>\n",
       "      <th>752616</th>\n",
       "      <td>1172831</td>\n",
       "      <td>WEED MONKEY</td>\n",
       "      <td>Bubba Star is an Indica cross between Star Kus...</td>\n",
       "      <td>Bubba Star AAAA</td>\n",
       "      <td>33.0</td>\n",
       "    </tr>\n",
       "    <tr>\n",
       "      <th>752268</th>\n",
       "      <td>1172478</td>\n",
       "      <td>WEED MONKEY</td>\n",
       "      <td>Bubba Star is an Indica cross between Star Kus...</td>\n",
       "      <td>Bubba Star AAAA</td>\n",
       "      <td>33.0</td>\n",
       "    </tr>\n",
       "    <tr>\n",
       "      <th>752062</th>\n",
       "      <td>1172269</td>\n",
       "      <td>WEED MONKEY</td>\n",
       "      <td>Bubba Star is an Indica cross between Star Kus...</td>\n",
       "      <td>Bubba Star AAAA</td>\n",
       "      <td>33.0</td>\n",
       "    </tr>\n",
       "    <tr>\n",
       "      <th>752477</th>\n",
       "      <td>1172690</td>\n",
       "      <td>WEED MONKEY</td>\n",
       "      <td>Bubba Star is an Indica cross between Star Kus...</td>\n",
       "      <td>Bubba Star AAAA</td>\n",
       "      <td>33.0</td>\n",
       "    </tr>\n",
       "  </tbody>\n",
       "</table>\n",
       "</div>"
      ],
      "text/plain": [
       "        Unnamed: 0  dispensary_name  \\\n",
       "100            177  1 LOVE SERVICES   \n",
       "752616     1172831      WEED MONKEY   \n",
       "752268     1172478      WEED MONKEY   \n",
       "752062     1172269      WEED MONKEY   \n",
       "752477     1172690      WEED MONKEY   \n",
       "\n",
       "                                              description     product_name  \\\n",
       "100     Master Kush, MK, is a popular indica cross bet...      Master Kush   \n",
       "752616  Bubba Star is an Indica cross between Star Kus...  Bubba Star AAAA   \n",
       "752268  Bubba Star is an Indica cross between Star Kus...  Bubba Star AAAA   \n",
       "752062  Bubba Star is an Indica cross between Star Kus...  Bubba Star AAAA   \n",
       "752477  Bubba Star is an Indica cross between Star Kus...  Bubba Star AAAA   \n",
       "\n",
       "        price_eighth  \n",
       "100             40.0  \n",
       "752616          33.0  \n",
       "752268          33.0  \n",
       "752062          33.0  \n",
       "752477          33.0  "
      ]
     },
     "execution_count": 66,
     "metadata": {},
     "output_type": "execute_result"
    }
   ],
   "source": [
    "cleaned_weed_text.iloc[indices1[0]]"
   ]
  },
  {
   "cell_type": "code",
   "execution_count": 72,
   "metadata": {
    "ExecuteTime": {
     "end_time": "2019-10-02T12:08:55.465836Z",
     "start_time": "2019-10-02T12:08:55.458732Z"
    }
   },
   "outputs": [
    {
     "name": "stdout",
     "output_type": "stream",
     "text": [
      "original\n",
      " Master Kush, MK, is a popular indica cross between Hindu Kush and Skunk, Its aroma is nearly undetectable, but it produces a subtle earthy, citrus taste. With MK, you can anticipate full-body relaxation coupled with sharpened sensory awareness that can bring out the best of any activity. \n",
      "\n",
      "comparison1\n",
      " Bubba Star is an Indica cross between Star Kush and Bubba Kush. \n",
      "\n"
     ]
    }
   ],
   "source": [
    "print('original\\n', cleaned_weed_text.iloc[indices1[0]]['description'].iloc[0],'\\n')\n",
    "print('comparison1\\n', cleaned_weed_text.iloc[indices1[0]]['description'].iloc[3], '\\n')"
   ]
  },
  {
   "cell_type": "code",
   "execution_count": 79,
   "metadata": {
    "ExecuteTime": {
     "end_time": "2019-10-02T12:10:56.316612Z",
     "start_time": "2019-10-02T12:10:56.299382Z"
    }
   },
   "outputs": [
    {
     "data": {
      "text/plain": [
       "{'and', 'between', 'cross', 'indica', 'is', 'kush'}"
      ]
     },
     "execution_count": 79,
     "metadata": {},
     "output_type": "execute_result"
    }
   ],
   "source": [
    "words_in_orig = set(cleaned_weed_text.iloc[indices1[0]]['description'].iloc[0].lower().split(\" \"))\n",
    "words_in_new1 = set(cleaned_weed_text.iloc[indices1[0]]['description'].iloc[3].lower().split(\" \"))\n",
    "words_in_orig.intersection(words_in_new1)"
   ]
  },
  {
   "cell_type": "markdown",
   "metadata": {},
   "source": [
    "## Doc2Vec KNN"
   ]
  },
  {
   "cell_type": "code",
   "execution_count": 65,
   "metadata": {
    "ExecuteTime": {
     "end_time": "2019-10-07T03:26:16.831442Z",
     "start_time": "2019-10-07T03:26:13.242239Z"
    }
   },
   "outputs": [],
   "source": [
    "from sklearn.neighbors import NearestNeighbors\n",
    "d2v_nn = NearestNeighbors(n_neighbors=5, algorithm='ball_tree').fit(d2v_data)"
   ]
  },
  {
   "cell_type": "code",
   "execution_count": 119,
   "metadata": {
    "ExecuteTime": {
     "end_time": "2019-10-07T04:40:52.225527Z",
     "start_time": "2019-10-07T04:40:43.993437Z"
    }
   },
   "outputs": [],
   "source": [
    "# doc2vec similar texts\n",
    "# 100 took 8 seconds\n",
    "import csv\n",
    "num_elems = 100\n",
    "sel_d2v_data = d2v_data[:num_elems, :]\n",
    "distances_d2v, indices_d2v = d2v_nn.kneighbors(d2v_data[:num_elems, :])\n",
    "with open('datasets/doc2vec_similar.csv', mode='w') as d2v_sim:\n",
    "    writer = csv.writer(d2v_sim, delimiter=',', quotechar='\"', quoting=csv.QUOTE_MINIMAL)\n",
    "    writer.writerow(['original'] + [str(i) for i in range(1, 6)])\n",
    "    for i in range(num_elems):\n",
    "        neighbor_indices = indices_d2v[i]\n",
    "        texts = cleaned_weed_text.iloc[neighbor_indices]['description']\n",
    "        writer.writerow([cleaned_weed_text.iloc[i]['description']] + list(texts))"
   ]
  },
  {
   "cell_type": "markdown",
   "metadata": {},
   "source": [
    "## Word2Vec KNN"
   ]
  },
  {
   "cell_type": "code",
   "execution_count": 109,
   "metadata": {
    "ExecuteTime": {
     "end_time": "2019-10-07T04:34:48.405921Z",
     "start_time": "2019-10-07T04:34:40.587807Z"
    }
   },
   "outputs": [],
   "source": [
    "from sklearn.neighbors import NearestNeighbors\n",
    "w2v_nn = NearestNeighbors(n_neighbors=5, algorithm='ball_tree').fit(w2v_data)"
   ]
  },
  {
   "cell_type": "code",
   "execution_count": 120,
   "metadata": {
    "ExecuteTime": {
     "end_time": "2019-10-07T04:41:05.147507Z",
     "start_time": "2019-10-07T04:40:56.805510Z"
    }
   },
   "outputs": [],
   "source": [
    "# word2vec similar texts\n",
    "# 100 took 8 seconds\n",
    "import csv\n",
    "num_elems = 100\n",
    "sel_w2v_data = w2v_data[:num_elems, :]\n",
    "distances_w2v, indices_w2v = w2v_nn.kneighbors(w2v_data[:num_elems, :])\n",
    "with open('datasets/word2vec_similar.csv', mode='w') as w2v_sim:\n",
    "    writer = csv.writer(w2v_sim, delimiter=',', quotechar='\"', quoting=csv.QUOTE_MINIMAL)\n",
    "    writer.writerow(['original'] + [str(i) for i in range(1, 6)])\n",
    "    for i in range(num_elems):\n",
    "        neighbor_indices = indices_w2v[i]\n",
    "        texts = cleaned_weed_text.iloc[neighbor_indices]['description']\n",
    "        writer.writerow([cleaned_weed_text.iloc[i]['description']] + list(texts))"
   ]
  }
 ],
 "metadata": {
  "kernelspec": {
   "display_name": "Python 3",
   "language": "python",
   "name": "python3"
  },
  "language_info": {
   "codemirror_mode": {
    "name": "ipython",
    "version": 3
   },
   "file_extension": ".py",
   "mimetype": "text/x-python",
   "name": "python",
   "nbconvert_exporter": "python",
   "pygments_lexer": "ipython3",
   "version": "3.5.6"
  },
  "toc": {
   "base_numbering": 1,
   "nav_menu": {},
   "number_sections": true,
   "sideBar": true,
   "skip_h1_title": false,
   "title_cell": "Table of Contents",
   "title_sidebar": "Contents",
   "toc_cell": false,
   "toc_position": {
    "height": "calc(100% - 180px)",
    "left": "10px",
    "top": "150px",
    "width": "270px"
   },
   "toc_section_display": true,
   "toc_window_display": true
  },
  "varInspector": {
   "cols": {
    "lenName": 16,
    "lenType": 16,
    "lenVar": 40
   },
   "kernels_config": {
    "python": {
     "delete_cmd_postfix": "",
     "delete_cmd_prefix": "del ",
     "library": "var_list.py",
     "varRefreshCmd": "print(var_dic_list())"
    },
    "r": {
     "delete_cmd_postfix": ") ",
     "delete_cmd_prefix": "rm(",
     "library": "var_list.r",
     "varRefreshCmd": "cat(var_dic_list()) "
    }
   },
   "position": {
    "height": "692.85px",
    "left": "1549px",
    "right": "20px",
    "top": "125px",
    "width": "350px"
   },
   "types_to_exclude": [
    "module",
    "function",
    "builtin_function_or_method",
    "instance",
    "_Feature"
   ],
   "window_display": true
  }
 },
 "nbformat": 4,
 "nbformat_minor": 2
}
